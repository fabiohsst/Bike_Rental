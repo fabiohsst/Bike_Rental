{
 "cells": [
  {
   "cell_type": "markdown",
   "id": "5ae6b4fd",
   "metadata": {},
   "source": [
    "<b>Task 3 - Group project done by: Fabio Tavares (K00278295) & Liliam Cristine Stein (K00278238)</b>\n",
    "\n"
   ]
  },
  {
   "cell_type": "markdown",
   "id": "24a8186b",
   "metadata": {
    "toc": true
   },
   "source": [
    "<h1>Table of Contents<span class=\"tocSkip\"></span></h1>\n",
    "<div class=\"toc\"><ul class=\"toc-item\"><li><span><a href=\"#Task-in-hand-\" data-toc-modified-id=\"Task-in-hand--1\"><span class=\"toc-item-num\">1&nbsp;&nbsp;</span>Task in hand <a class=\"anchor\" id=\"task1\" rel=\"nofollow\"></a></a></span><ul class=\"toc-item\"><li><span><a href=\"#About-the-information-collected\" data-toc-modified-id=\"About-the-information-collected-1.1\"><span class=\"toc-item-num\">1.1&nbsp;&nbsp;</span>About the information collected</a></span><ul class=\"toc-item\"><li><span><a href=\"#Static-Data\" data-toc-modified-id=\"Static-Data-1.1.1\"><span class=\"toc-item-num\">1.1.1&nbsp;&nbsp;</span>Static Data</a></span></li><li><span><a href=\"#Dynamic-Data\" data-toc-modified-id=\"Dynamic-Data-1.1.2\"><span class=\"toc-item-num\">1.1.2&nbsp;&nbsp;</span>Dynamic Data</a></span></li></ul></li><li><span><a href=\"#Handling-the-data-collected--\" data-toc-modified-id=\"Handling-the-data-collected---1.2\"><span class=\"toc-item-num\">1.2&nbsp;&nbsp;</span>Handling the data collected  <a class=\"anchor\" id=\"prepare_dataset\" rel=\"nofollow\"></a></a></span><ul class=\"toc-item\"><li><span><a href=\"#Import-libraries---\" data-toc-modified-id=\"Import-libraries----1.2.1\"><span class=\"toc-item-num\">1.2.1&nbsp;&nbsp;</span>Import libraries   <a class=\"anchor\" id=\"import_libs\" rel=\"nofollow\"></a></a></span></li><li><span><a href=\"#Import-datasets----\" data-toc-modified-id=\"Import-datasets-----1.2.2\"><span class=\"toc-item-num\">1.2.2&nbsp;&nbsp;</span>Import datasets    <a class=\"anchor\" id=\"import_datasets\" rel=\"nofollow\"></a></a></span></li><li><span><a href=\"#Concatenate-tables----\" data-toc-modified-id=\"Concatenate-tables-----1.2.3\"><span class=\"toc-item-num\">1.2.3&nbsp;&nbsp;</span>Concatenate tables    <a class=\"anchor\" id=\"concat_tables\" rel=\"nofollow\"></a></a></span></li></ul></li></ul></li><li><span><a href=\"#Data-Cleaning---\" data-toc-modified-id=\"Data-Cleaning----2\"><span class=\"toc-item-num\">2&nbsp;&nbsp;</span>Data Cleaning   <a class=\"anchor\" id=\"data_clean\" rel=\"nofollow\"></a></a></span><ul class=\"toc-item\"><li><span><a href=\"#Count-and-Drop-duplicated-rows---\" data-toc-modified-id=\"Count-and-Drop-duplicated-rows----2.1\"><span class=\"toc-item-num\">2.1&nbsp;&nbsp;</span>Count and Drop duplicated rows   <a class=\"anchor\" id=\"count_drop\" rel=\"nofollow\"></a></a></span></li><li><span><a href=\"#Drop-columns-that-will-not-be-used-and-check-missing-values\" data-toc-modified-id=\"Drop-columns-that-will-not-be-used-and-check-missing-values-2.2\"><span class=\"toc-item-num\">2.2&nbsp;&nbsp;</span>Drop columns that will not be used and check missing values</a></span></li><li><span><a href=\"#Separate-item-in-column-totalStands-in-different-columns-for-further-analysis--\" data-toc-modified-id=\"Separate-item-in-column-totalStands-in-different-columns-for-further-analysis---2.3\"><span class=\"toc-item-num\">2.3&nbsp;&nbsp;</span>Separate item in column <em>totalStands</em> in different columns for further analysis  <a class=\"anchor\" id=\"total_stands\" rel=\"nofollow\"></a></a></span></li><li><span><a href=\"#Check-the-other-columns-usability--\" data-toc-modified-id=\"Check-the-other-columns-usability---2.4\"><span class=\"toc-item-num\">2.4&nbsp;&nbsp;</span>Check the other columns usability  <a class=\"anchor\" id=\"usability\" rel=\"nofollow\"></a></a></span><ul class=\"toc-item\"><li><span><a href=\"#Select-columns-for-Final-Dataframe--\" data-toc-modified-id=\"Select-columns-for-Final-Dataframe---2.4.1\"><span class=\"toc-item-num\">2.4.1&nbsp;&nbsp;</span>Select columns for Final Dataframe  <a class=\"anchor\" id=\"final_dataframe\" rel=\"nofollow\"></a></a></span></li><li><span><a href=\"#Check-format-of-the-attributes---\" data-toc-modified-id=\"Check-format-of-the-attributes----2.4.2\"><span class=\"toc-item-num\">2.4.2&nbsp;&nbsp;</span>Check format of the attributes   <a class=\"anchor\" id=\"data_attributes\" rel=\"nofollow\"></a></a></span></li><li><span><a href=\"#Time-slices---\" data-toc-modified-id=\"Time-slices----2.4.3\"><span class=\"toc-item-num\">2.4.3&nbsp;&nbsp;</span>Time slices   <a class=\"anchor\" id=\"slice\" rel=\"nofollow\"></a></a></span></li></ul></li></ul></li><li><span><a href=\"#Data-Analysis------\" data-toc-modified-id=\"Data-Analysis-------3\"><span class=\"toc-item-num\">3&nbsp;&nbsp;</span>Data Analysis      <a class=\"anchor\" id=\"data_analysis\" rel=\"nofollow\"></a></a></span><ul class=\"toc-item\"><li><span><a href=\"#Static-variables---\" data-toc-modified-id=\"Static-variables----3.1\"><span class=\"toc-item-num\">3.1&nbsp;&nbsp;</span>Static variables   <a class=\"anchor\" id=\"static\" rel=\"nofollow\"></a></a></span></li><li><span><a href=\"#Dynamic-variables------\" data-toc-modified-id=\"Dynamic-variables-------3.2\"><span class=\"toc-item-num\">3.2&nbsp;&nbsp;</span>Dynamic variables      <a class=\"anchor\" id=\"dynamic\" rel=\"nofollow\"></a></a></span></li><li><span><a href=\"#Summary-statistics-of-Quantitative-Data--\" data-toc-modified-id=\"Summary-statistics-of-Quantitative-Data---3.3\"><span class=\"toc-item-num\">3.3&nbsp;&nbsp;</span>Summary statistics of Quantitative Data  <a class=\"anchor\" id=\"quantitative\" rel=\"nofollow\"></a></a></span></li><li><span><a href=\"#Execute-defined-plan----\" data-toc-modified-id=\"Execute-defined-plan-----3.4\"><span class=\"toc-item-num\">3.4&nbsp;&nbsp;</span>Execute defined plan    <a class=\"anchor\" id=\"execute\" rel=\"nofollow\"></a></a></span><ul class=\"toc-item\"><li><span><a href=\"#Grouping-the-tables-by-name-and-calculating-flow.\" data-toc-modified-id=\"Grouping-the-tables-by-name-and-calculating-flow.-3.4.1\"><span class=\"toc-item-num\">3.4.1&nbsp;&nbsp;</span>Grouping the tables by name and calculating flow.</a></span></li></ul></li><li><span><a href=\"#Individual-stand-flow\" data-toc-modified-id=\"Individual-stand-flow-3.5\"><span class=\"toc-item-num\">3.5&nbsp;&nbsp;</span>Individual stand flow</a></span><ul class=\"toc-item\"><li><span><a href=\"#Locate-the-stand-with-highest-flow-registered\" data-toc-modified-id=\"Locate-the-stand-with-highest-flow-registered-3.5.1\"><span class=\"toc-item-num\">3.5.1&nbsp;&nbsp;</span>Locate the stand with highest flow registered</a></span></li><li><span><a href=\"#Get-a-top-5-of-highest-average-flows\" data-toc-modified-id=\"Get-a-top-5-of-highest-average-flows-3.5.2\"><span class=\"toc-item-num\">3.5.2&nbsp;&nbsp;</span>Get a top 5 of highest average flows</a></span></li><li><span><a href=\"#Locate-the-stand-with-lowest-flow-registered\" data-toc-modified-id=\"Locate-the-stand-with-lowest-flow-registered-3.5.3\"><span class=\"toc-item-num\">3.5.3&nbsp;&nbsp;</span>Locate the stand with lowest flow registered</a></span></li><li><span><a href=\"#Get-a-list-5-of-lowest-average-flows\" data-toc-modified-id=\"Get-a-list-5-of-lowest-average-flows-3.5.4\"><span class=\"toc-item-num\">3.5.4&nbsp;&nbsp;</span>Get a list 5 of lowest average flows</a></span></li></ul></li><li><span><a href=\"#Check-the-daily-flow-over-the-week-of-bikes-on-a-specific-stand-number.\" data-toc-modified-id=\"Check-the-daily-flow-over-the-week-of-bikes-on-a-specific-stand-number.-3.6\"><span class=\"toc-item-num\">3.6&nbsp;&nbsp;</span>Check the daily flow over the week of bikes on a specific stand number.</a></span></li></ul></li><li><span><a href=\"#Conclusion--\" data-toc-modified-id=\"Conclusion---4\"><span class=\"toc-item-num\">4&nbsp;&nbsp;</span>Conclusion  <a class=\"anchor\" id=\"conclusion\" rel=\"nofollow\"></a></a></span></li><li><span><a href=\"#References--\" data-toc-modified-id=\"References---5\"><span class=\"toc-item-num\">5&nbsp;&nbsp;</span>References  <a class=\"anchor\" id=\"references\" rel=\"nofollow\"></a></a></span></li></ul></div>"
   ]
  },
  {
   "cell_type": "markdown",
   "id": "86ab2200",
   "metadata": {},
   "source": [
    "<a id='resume'></a>"
   ]
  },
  {
   "cell_type": "markdown",
   "id": "e1154531",
   "metadata": {},
   "source": [
    "# Task in hand <a class=\"anchor\" id=\"task1\"></a>"
   ]
  },
  {
   "cell_type": "markdown",
   "id": "874b1862",
   "metadata": {},
   "source": [
    "The main goal of this notebook was to calculate hourly flow of bikes per day of the week and visualize the variance of the peak times during the period analysed and define patterns of peaks (if there are any) considering peak times in car's traffic in Dublin city found in TomTom website [2](#dublin_traffic). The just mentioned displays a heatmap with peaks at 8am, during the afternoon with stronger peaks around 2pm, 4pm and 5pm. Thereafter, if successful, reproduce that method in specific stands enabling singular visualizations.\n",
    "\n",
    "As direction points:\n",
    "- How much of the data collected is really usefull to complete the task.\n",
    "- What's the best way to find the daily flow.\n",
    "- Trace stands as in which displays highest flux.\n",
    "\n",
    "For that, data was collected starting at Friday the 2nd and finishing at Thursday the 8th, completing 7 days of data [1](#jcdecaux_api). On overal, data was collect from 7:45am to 7:30pm with some variation in starting and finishing times and for that reason, in the analysis, the data considered will be from 8am to 7pm. "
   ]
  },
  {
   "cell_type": "markdown",
   "id": "0fc9ad38",
   "metadata": {},
   "source": [
    "## About the information collected\n",
    "\n",
    "The attributes are split in two parts: Static and Dynamic data [1](#jcdecaux_api) \n",
    "\n",
    "### Static Data\n",
    "\n",
    "- <b>number:</b> number of the station. This is NOT an id, thus it is unique only inside a contract.\n",
    "- <b>contractName:</b>name of the contract of the station\n",
    "- <b>name:</b> name of the station\n",
    "- <b>address:</b>address of the station. As it is raw data, sometimes it will be more of a comment than an address.\n",
    "- <b>position:</b>position of the station in WGS84 format\n",
    "- <b>banking:</b> indicates whether this station has a payment terminal\n",
    "- <b>bonus:</b>indicates whether this is a bonus station\n",
    "- <b>overflow:</b>boolean true when the station allows overflow bike return\n",
    "- <b>shape:</b>for future use\n",
    "\n",
    "\n",
    "### Dynamic Data\n",
    "\n",
    "- <b>number:</b>indicates whether this station is <b>CLOSED</b> or <b>OPEN</b>\n",
    "- <b>connected:</b>indicates whether the station is connected to it's backend\n",
    "- <b>totalStands:</b>indicates the station's total capacities\n",
    "- <b>mainStands:</b>indicates the station's physical capacities\n",
    "- <b>overflowStands:</b>indicates the overflow's capacities\n",
    "- <b>availabilties:</b> indicates the bike stand capacity and number bikes locked on stands by types\n",
    "- <b>lastUpdate:</b>timestamp indicating the last update time"
   ]
  },
  {
   "cell_type": "markdown",
   "id": "0455568c",
   "metadata": {},
   "source": [
    "<a id='prepare_dataset'></a>"
   ]
  },
  {
   "cell_type": "markdown",
   "id": "382e7b6f",
   "metadata": {},
   "source": [
    "## Handling the data collected  <a class=\"anchor\" id=\"prepare_dataset\"></a>"
   ]
  },
  {
   "cell_type": "markdown",
   "id": "d9506510",
   "metadata": {},
   "source": [
    "### Import libraries   <a class=\"anchor\" id=\"import_libs\"></a>"
   ]
  },
  {
   "cell_type": "code",
   "execution_count": 18,
   "id": "a44b8358",
   "metadata": {},
   "outputs": [],
   "source": [
    "import requests\n",
    "import pandas as pd\n",
    "import numpy as np\n",
    "import datetime\n",
    "import matplotlib.pyplot as plt\n",
    "import ast "
   ]
  },
  {
   "cell_type": "markdown",
   "id": "6e0e518d",
   "metadata": {},
   "source": [
    "<a id='import_datasets'></a>"
   ]
  },
  {
   "cell_type": "markdown",
   "id": "a83f4fa4",
   "metadata": {},
   "source": [
    "### Import datasets    <a class=\"anchor\" id=\"import_datasets\"></a>"
   ]
  },
  {
   "cell_type": "code",
   "execution_count": 19,
   "id": "849140f8",
   "metadata": {},
   "outputs": [],
   "source": [
    "df =  pd.read_csv('DF1MASTER02dec.csv')\n",
    "df2 = pd.read_csv('DF2MASTER03dec.csv')\n",
    "df3 = pd.read_csv('DF3MASTER04dec.csv')\n",
    "df4 = pd.read_csv('DF4MASTER05dec.csv')\n",
    "df5 = pd.read_csv('DF5MASTER06dec.csv')\n",
    "df6 = pd.read_csv('DF6MASTER07dec.csv')\n",
    "df7 = pd.read_csv('DF7MASTER08dec.csv')"
   ]
  },
  {
   "cell_type": "markdown",
   "id": "4eb9b526",
   "metadata": {},
   "source": [
    "### Concatenate tables    <a class=\"anchor\" id=\"concat_tables\"></a>"
   ]
  },
  {
   "cell_type": "code",
   "execution_count": 20,
   "id": "5b040614",
   "metadata": {
    "scrolled": true
   },
   "outputs": [
    {
     "data": {
      "text/html": [
       "<div>\n",
       "<style scoped>\n",
       "    .dataframe tbody tr th:only-of-type {\n",
       "        vertical-align: middle;\n",
       "    }\n",
       "\n",
       "    .dataframe tbody tr th {\n",
       "        vertical-align: top;\n",
       "    }\n",
       "\n",
       "    .dataframe thead th {\n",
       "        text-align: right;\n",
       "    }\n",
       "</style>\n",
       "<table border=\"1\" class=\"dataframe\">\n",
       "  <thead>\n",
       "    <tr style=\"text-align: right;\">\n",
       "      <th></th>\n",
       "      <th>number</th>\n",
       "      <th>contractName</th>\n",
       "      <th>name</th>\n",
       "      <th>address</th>\n",
       "      <th>position</th>\n",
       "      <th>banking</th>\n",
       "      <th>bonus</th>\n",
       "      <th>status</th>\n",
       "      <th>lastUpdate</th>\n",
       "      <th>connected</th>\n",
       "      <th>overflow</th>\n",
       "      <th>shape</th>\n",
       "      <th>totalStands</th>\n",
       "      <th>mainStands</th>\n",
       "      <th>overflowStands</th>\n",
       "      <th>dates</th>\n",
       "    </tr>\n",
       "  </thead>\n",
       "  <tbody>\n",
       "    <tr>\n",
       "      <th>0</th>\n",
       "      <td>3</td>\n",
       "      <td>dublin</td>\n",
       "      <td>BOLTON STREET</td>\n",
       "      <td>Bolton Street</td>\n",
       "      <td>{'latitude': 53.351182, 'longitude': -6.269859}</td>\n",
       "      <td>False</td>\n",
       "      <td>False</td>\n",
       "      <td>OPEN</td>\n",
       "      <td>2022-12-02T07:47:02Z</td>\n",
       "      <td>True</td>\n",
       "      <td>False</td>\n",
       "      <td>NaN</td>\n",
       "      <td>{'availabilities': {'bikes': 0, 'stands': 20, ...</td>\n",
       "      <td>{'availabilities': {'bikes': 0, 'stands': 20, ...</td>\n",
       "      <td>NaN</td>\n",
       "      <td>02/12/2022 07:47</td>\n",
       "    </tr>\n",
       "    <tr>\n",
       "      <th>1</th>\n",
       "      <td>52</td>\n",
       "      <td>dublin</td>\n",
       "      <td>YORK STREET EAST</td>\n",
       "      <td>York Street East</td>\n",
       "      <td>{'latitude': 53.338755, 'longitude': -6.262003}</td>\n",
       "      <td>False</td>\n",
       "      <td>False</td>\n",
       "      <td>OPEN</td>\n",
       "      <td>2022-12-02T07:47:16Z</td>\n",
       "      <td>True</td>\n",
       "      <td>False</td>\n",
       "      <td>NaN</td>\n",
       "      <td>{'availabilities': {'bikes': 4, 'stands': 28, ...</td>\n",
       "      <td>{'availabilities': {'bikes': 4, 'stands': 28, ...</td>\n",
       "      <td>NaN</td>\n",
       "      <td>02/12/2022 07:47</td>\n",
       "    </tr>\n",
       "  </tbody>\n",
       "</table>\n",
       "</div>"
      ],
      "text/plain": [
       "   number contractName              name           address  \\\n",
       "0       3       dublin     BOLTON STREET     Bolton Street   \n",
       "1      52       dublin  YORK STREET EAST  York Street East   \n",
       "\n",
       "                                          position  banking  bonus status  \\\n",
       "0  {'latitude': 53.351182, 'longitude': -6.269859}    False  False   OPEN   \n",
       "1  {'latitude': 53.338755, 'longitude': -6.262003}    False  False   OPEN   \n",
       "\n",
       "             lastUpdate  connected  overflow  shape  \\\n",
       "0  2022-12-02T07:47:02Z       True     False    NaN   \n",
       "1  2022-12-02T07:47:16Z       True     False    NaN   \n",
       "\n",
       "                                         totalStands  \\\n",
       "0  {'availabilities': {'bikes': 0, 'stands': 20, ...   \n",
       "1  {'availabilities': {'bikes': 4, 'stands': 28, ...   \n",
       "\n",
       "                                          mainStands  overflowStands  \\\n",
       "0  {'availabilities': {'bikes': 0, 'stands': 20, ...             NaN   \n",
       "1  {'availabilities': {'bikes': 4, 'stands': 28, ...             NaN   \n",
       "\n",
       "              dates  \n",
       "0  02/12/2022 07:47  \n",
       "1  02/12/2022 07:47  "
      ]
     },
     "execution_count": 20,
     "metadata": {},
     "output_type": "execute_result"
    }
   ],
   "source": [
    "# Concatenate all the datasets collected \n",
    "new_bike_dataset = pd.concat([df, df2, df3, df4, df5, df6, df7], axis=0)\n",
    "\n",
    "# Transform it in a pandas Data Frame\n",
    "new_bike_dataset = pd.DataFrame(new_bike_dataset)\n",
    "\n",
    "# Display the firs rows of the dataset\n",
    "new_bike_dataset.head(2) "
   ]
  },
  {
   "cell_type": "code",
   "execution_count": 21,
   "id": "e615b4df",
   "metadata": {},
   "outputs": [
    {
     "data": {
      "text/plain": [
       "70511"
      ]
     },
     "execution_count": 21,
     "metadata": {},
     "output_type": "execute_result"
    }
   ],
   "source": [
    "#number of rows with duplicates\n",
    "len(new_bike_dataset)  "
   ]
  },
  {
   "cell_type": "markdown",
   "id": "9c934936",
   "metadata": {},
   "source": [
    "# Data Cleaning   <a class=\"anchor\" id=\"data_clean\"></a>"
   ]
  },
  {
   "cell_type": "markdown",
   "id": "aeb196af",
   "metadata": {},
   "source": [
    "## Count and Drop duplicated rows   <a class=\"anchor\" id=\"count_drop\"></a>"
   ]
  },
  {
   "cell_type": "code",
   "execution_count": 22,
   "id": "e1e6ef4e",
   "metadata": {
    "scrolled": false
   },
   "outputs": [
    {
     "data": {
      "text/plain": [
       "False    61520\n",
       "True      8991\n",
       "dtype: int64"
      ]
     },
     "execution_count": 22,
     "metadata": {},
     "output_type": "execute_result"
    }
   ],
   "source": [
    "# check duplicated values on the dataset\n",
    "duplicated_rows = new_bike_dataset.duplicated()\n",
    "\n",
    "# count the duplicated and not duplicated values\n",
    "duplicated_rows.value_counts()"
   ]
  },
  {
   "cell_type": "code",
   "execution_count": 23,
   "id": "91000284",
   "metadata": {},
   "outputs": [],
   "source": [
    "# Drop duplicates\n",
    "bikes_table_ready = new_bike_dataset.drop_duplicates(subset=None, keep='first', inplace=False, ignore_index=True)"
   ]
  },
  {
   "cell_type": "markdown",
   "id": "78572440",
   "metadata": {},
   "source": [
    "Check if the drop_duplicates worked"
   ]
  },
  {
   "cell_type": "code",
   "execution_count": 24,
   "id": "a5e450a5",
   "metadata": {},
   "outputs": [
    {
     "data": {
      "text/plain": [
       "False    61520\n",
       "dtype: int64"
      ]
     },
     "execution_count": 24,
     "metadata": {},
     "output_type": "execute_result"
    }
   ],
   "source": [
    "# check duplicated values on the dataset\n",
    "duplicated_rows_after = bikes_table_ready.duplicated()\n",
    "\n",
    "# Count the duplicated and not duplicated values\n",
    "duplicated_rows_after.value_counts()"
   ]
  },
  {
   "cell_type": "markdown",
   "id": "5489e37e",
   "metadata": {},
   "source": [
    "## Drop columns that will not be used and check missing values"
   ]
  },
  {
   "cell_type": "code",
   "execution_count": 25,
   "id": "b930e5b1",
   "metadata": {},
   "outputs": [
    {
     "data": {
      "text/plain": [
       "Index(['number', 'contractName', 'name', 'address', 'position', 'banking',\n",
       "       'bonus', 'status', 'lastUpdate', 'connected', 'overflow', 'shape',\n",
       "       'totalStands', 'mainStands', 'overflowStands', 'dates'],\n",
       "      dtype='object')"
      ]
     },
     "execution_count": 25,
     "metadata": {},
     "output_type": "execute_result"
    }
   ],
   "source": [
    "# List columns on dataset\n",
    "bikes_table_ready.columns"
   ]
  },
  {
   "cell_type": "code",
   "execution_count": 26,
   "id": "f342de2c",
   "metadata": {},
   "outputs": [
    {
     "data": {
      "text/plain": [
       "61520"
      ]
     },
     "execution_count": 26,
     "metadata": {},
     "output_type": "execute_result"
    }
   ],
   "source": [
    "len(bikes_table_ready)"
   ]
  },
  {
   "cell_type": "code",
   "execution_count": 27,
   "id": "f65f7e0f",
   "metadata": {
    "scrolled": true
   },
   "outputs": [
    {
     "data": {
      "text/plain": [
       "number                0\n",
       "contractName          0\n",
       "name                  0\n",
       "address               0\n",
       "position              0\n",
       "banking               0\n",
       "bonus                 0\n",
       "status                0\n",
       "lastUpdate            0\n",
       "connected             0\n",
       "overflow              0\n",
       "shape             61520\n",
       "totalStands           0\n",
       "mainStands            0\n",
       "overflowStands    61520\n",
       "dates                 0\n",
       "dtype: int64"
      ]
     },
     "execution_count": 27,
     "metadata": {},
     "output_type": "execute_result"
    }
   ],
   "source": [
    "#Number of missing values per column \n",
    "null_values = bikes_table_ready.isnull().sum()\n",
    "null_values"
   ]
  },
  {
   "cell_type": "markdown",
   "id": "25862c4d",
   "metadata": {},
   "source": [
    "The column _'shape'_ appears in table (all null values), but no information is imputed because it was designed to be there for future uses [1](#jcdecaux_api), therefore, it will not have use for analyses conducted in this notebook.\n",
    "\n",
    "The column 'overflowStands' (all null values) has no use as well.\n",
    "\n",
    "By eyebolling the dataFrame, it was decided to drop columns 'address' , 'lastUpdate', 'shape', 'mainStands', 'overflowStands' right away."
   ]
  },
  {
   "cell_type": "code",
   "execution_count": 28,
   "id": "0af3cf54",
   "metadata": {},
   "outputs": [
    {
     "data": {
      "text/plain": [
       "Index(['number', 'contractName', 'name', 'position', 'banking', 'bonus',\n",
       "       'status', 'connected', 'overflow', 'totalStands', 'dates'],\n",
       "      dtype='object')"
      ]
     },
     "execution_count": 28,
     "metadata": {},
     "output_type": "execute_result"
    }
   ],
   "source": [
    "# Select only columns that will be caried on for checking before analyses.\n",
    "bikes_table = bikes_table_ready.loc[:, [\"number\", \"contractName\", \"name\", \"position\", \"banking\",\n",
    "                                              \"bonus\", \"status\", \"connected\", \"overflow\", \"totalStands\", \"dates\"]]\n",
    "\n",
    "# check name of columns in the new dataset\n",
    "bikes_table.columns"
   ]
  },
  {
   "cell_type": "code",
   "execution_count": 29,
   "id": "447aa3d3",
   "metadata": {},
   "outputs": [
    {
     "data": {
      "text/plain": [
       "61520"
      ]
     },
     "execution_count": 29,
     "metadata": {},
     "output_type": "execute_result"
    }
   ],
   "source": [
    "len(bikes_table)"
   ]
  },
  {
   "cell_type": "markdown",
   "id": "49dfdf5e",
   "metadata": {},
   "source": [
    "## Separate item in column _totalStands_ in different columns for further analysis  <a class=\"anchor\" id=\"total_stands\"></a>"
   ]
  },
  {
   "cell_type": "code",
   "execution_count": 30,
   "id": "1860a879",
   "metadata": {},
   "outputs": [],
   "source": [
    "# get the 'availabilities' \n",
    "total_stands = bikes_table['totalStands'].apply(ast.literal_eval)\n",
    "\n",
    "# create a new dataframe \n",
    "#stands_dataframe = pd.DataFrame(total_stands.apply(lambda x: x['availabilities']).tolist())\n",
    "\n",
    "# extract the 'capacity' values and create a new 'capacity' column\n",
    "#stands_dataframe = stands_dataframe.assign(capacity=total_stands.apply(lambda x: x['capacity']))\n",
    "\n",
    "# join the new dataframe to the original one\n",
    "#bikes_table = bikes_table.join(stands_dataframe)"
   ]
  },
  {
   "cell_type": "code",
   "execution_count": 31,
   "id": "d9a015cd",
   "metadata": {
    "scrolled": true
   },
   "outputs": [
    {
     "data": {
      "text/plain": [
       "0        {'availabilities': {'bikes': 0, 'stands': 20, ...\n",
       "1        {'availabilities': {'bikes': 4, 'stands': 28, ...\n",
       "2        {'availabilities': {'bikes': 2, 'stands': 38, ...\n",
       "3        {'availabilities': {'bikes': 2, 'stands': 38, ...\n",
       "4        {'availabilities': {'bikes': 12, 'stands': 4, ...\n",
       "                               ...                        \n",
       "61515    {'availabilities': {'bikes': 22, 'stands': 7, ...\n",
       "61516    {'availabilities': {'bikes': 3, 'stands': 37, ...\n",
       "61517    {'availabilities': {'bikes': 6, 'stands': 34, ...\n",
       "61518    {'availabilities': {'bikes': 2, 'stands': 28, ...\n",
       "61519    {'availabilities': {'bikes': 19, 'stands': 21,...\n",
       "Name: totalStands, Length: 61520, dtype: object"
      ]
     },
     "execution_count": 31,
     "metadata": {},
     "output_type": "execute_result"
    }
   ],
   "source": [
    "total_stands"
   ]
  },
  {
   "cell_type": "code",
   "execution_count": 32,
   "id": "fcb1d9c2",
   "metadata": {},
   "outputs": [
    {
     "data": {
      "text/html": [
       "<div>\n",
       "<style scoped>\n",
       "    .dataframe tbody tr th:only-of-type {\n",
       "        vertical-align: middle;\n",
       "    }\n",
       "\n",
       "    .dataframe tbody tr th {\n",
       "        vertical-align: top;\n",
       "    }\n",
       "\n",
       "    .dataframe thead th {\n",
       "        text-align: right;\n",
       "    }\n",
       "</style>\n",
       "<table border=\"1\" class=\"dataframe\">\n",
       "  <thead>\n",
       "    <tr style=\"text-align: right;\">\n",
       "      <th></th>\n",
       "      <th>bikes</th>\n",
       "      <th>stands</th>\n",
       "      <th>mechanicalBikes</th>\n",
       "      <th>electricalBikes</th>\n",
       "      <th>electricalInternalBatteryBikes</th>\n",
       "      <th>electricalRemovableBatteryBikes</th>\n",
       "    </tr>\n",
       "  </thead>\n",
       "  <tbody>\n",
       "    <tr>\n",
       "      <th>0</th>\n",
       "      <td>0</td>\n",
       "      <td>20</td>\n",
       "      <td>0</td>\n",
       "      <td>0</td>\n",
       "      <td>0</td>\n",
       "      <td>0</td>\n",
       "    </tr>\n",
       "    <tr>\n",
       "      <th>1</th>\n",
       "      <td>4</td>\n",
       "      <td>28</td>\n",
       "      <td>4</td>\n",
       "      <td>0</td>\n",
       "      <td>0</td>\n",
       "      <td>0</td>\n",
       "    </tr>\n",
       "    <tr>\n",
       "      <th>2</th>\n",
       "      <td>2</td>\n",
       "      <td>38</td>\n",
       "      <td>0</td>\n",
       "      <td>2</td>\n",
       "      <td>0</td>\n",
       "      <td>2</td>\n",
       "    </tr>\n",
       "    <tr>\n",
       "      <th>3</th>\n",
       "      <td>2</td>\n",
       "      <td>38</td>\n",
       "      <td>2</td>\n",
       "      <td>0</td>\n",
       "      <td>0</td>\n",
       "      <td>0</td>\n",
       "    </tr>\n",
       "    <tr>\n",
       "      <th>4</th>\n",
       "      <td>12</td>\n",
       "      <td>4</td>\n",
       "      <td>6</td>\n",
       "      <td>6</td>\n",
       "      <td>0</td>\n",
       "      <td>6</td>\n",
       "    </tr>\n",
       "    <tr>\n",
       "      <th>...</th>\n",
       "      <td>...</td>\n",
       "      <td>...</td>\n",
       "      <td>...</td>\n",
       "      <td>...</td>\n",
       "      <td>...</td>\n",
       "      <td>...</td>\n",
       "    </tr>\n",
       "    <tr>\n",
       "      <th>61515</th>\n",
       "      <td>22</td>\n",
       "      <td>7</td>\n",
       "      <td>10</td>\n",
       "      <td>12</td>\n",
       "      <td>0</td>\n",
       "      <td>12</td>\n",
       "    </tr>\n",
       "    <tr>\n",
       "      <th>61516</th>\n",
       "      <td>3</td>\n",
       "      <td>37</td>\n",
       "      <td>2</td>\n",
       "      <td>1</td>\n",
       "      <td>0</td>\n",
       "      <td>1</td>\n",
       "    </tr>\n",
       "    <tr>\n",
       "      <th>61517</th>\n",
       "      <td>6</td>\n",
       "      <td>34</td>\n",
       "      <td>4</td>\n",
       "      <td>2</td>\n",
       "      <td>0</td>\n",
       "      <td>2</td>\n",
       "    </tr>\n",
       "    <tr>\n",
       "      <th>61518</th>\n",
       "      <td>2</td>\n",
       "      <td>28</td>\n",
       "      <td>2</td>\n",
       "      <td>0</td>\n",
       "      <td>0</td>\n",
       "      <td>0</td>\n",
       "    </tr>\n",
       "    <tr>\n",
       "      <th>61519</th>\n",
       "      <td>19</td>\n",
       "      <td>21</td>\n",
       "      <td>13</td>\n",
       "      <td>6</td>\n",
       "      <td>0</td>\n",
       "      <td>6</td>\n",
       "    </tr>\n",
       "  </tbody>\n",
       "</table>\n",
       "<p>61520 rows × 6 columns</p>\n",
       "</div>"
      ],
      "text/plain": [
       "       bikes  stands  mechanicalBikes  electricalBikes  \\\n",
       "0          0      20                0                0   \n",
       "1          4      28                4                0   \n",
       "2          2      38                0                2   \n",
       "3          2      38                2                0   \n",
       "4         12       4                6                6   \n",
       "...      ...     ...              ...              ...   \n",
       "61515     22       7               10               12   \n",
       "61516      3      37                2                1   \n",
       "61517      6      34                4                2   \n",
       "61518      2      28                2                0   \n",
       "61519     19      21               13                6   \n",
       "\n",
       "       electricalInternalBatteryBikes  electricalRemovableBatteryBikes  \n",
       "0                                   0                                0  \n",
       "1                                   0                                0  \n",
       "2                                   0                                2  \n",
       "3                                   0                                0  \n",
       "4                                   0                                6  \n",
       "...                               ...                              ...  \n",
       "61515                               0                               12  \n",
       "61516                               0                                1  \n",
       "61517                               0                                2  \n",
       "61518                               0                                0  \n",
       "61519                               0                                6  \n",
       "\n",
       "[61520 rows x 6 columns]"
      ]
     },
     "execution_count": 32,
     "metadata": {},
     "output_type": "execute_result"
    }
   ],
   "source": [
    "stands_dataframe = pd.DataFrame(total_stands.apply(lambda x: x['availabilities']).tolist())\n",
    "stands_dataframe"
   ]
  },
  {
   "cell_type": "code",
   "execution_count": 33,
   "id": "0235b5a7",
   "metadata": {},
   "outputs": [
    {
     "data": {
      "text/html": [
       "<div>\n",
       "<style scoped>\n",
       "    .dataframe tbody tr th:only-of-type {\n",
       "        vertical-align: middle;\n",
       "    }\n",
       "\n",
       "    .dataframe tbody tr th {\n",
       "        vertical-align: top;\n",
       "    }\n",
       "\n",
       "    .dataframe thead th {\n",
       "        text-align: right;\n",
       "    }\n",
       "</style>\n",
       "<table border=\"1\" class=\"dataframe\">\n",
       "  <thead>\n",
       "    <tr style=\"text-align: right;\">\n",
       "      <th></th>\n",
       "      <th>bikes</th>\n",
       "      <th>stands</th>\n",
       "      <th>mechanicalBikes</th>\n",
       "      <th>electricalBikes</th>\n",
       "      <th>electricalInternalBatteryBikes</th>\n",
       "      <th>electricalRemovableBatteryBikes</th>\n",
       "      <th>capacity</th>\n",
       "    </tr>\n",
       "  </thead>\n",
       "  <tbody>\n",
       "    <tr>\n",
       "      <th>0</th>\n",
       "      <td>0</td>\n",
       "      <td>20</td>\n",
       "      <td>0</td>\n",
       "      <td>0</td>\n",
       "      <td>0</td>\n",
       "      <td>0</td>\n",
       "      <td>20</td>\n",
       "    </tr>\n",
       "    <tr>\n",
       "      <th>1</th>\n",
       "      <td>4</td>\n",
       "      <td>28</td>\n",
       "      <td>4</td>\n",
       "      <td>0</td>\n",
       "      <td>0</td>\n",
       "      <td>0</td>\n",
       "      <td>32</td>\n",
       "    </tr>\n",
       "    <tr>\n",
       "      <th>2</th>\n",
       "      <td>2</td>\n",
       "      <td>38</td>\n",
       "      <td>0</td>\n",
       "      <td>2</td>\n",
       "      <td>0</td>\n",
       "      <td>2</td>\n",
       "      <td>40</td>\n",
       "    </tr>\n",
       "    <tr>\n",
       "      <th>3</th>\n",
       "      <td>2</td>\n",
       "      <td>38</td>\n",
       "      <td>2</td>\n",
       "      <td>0</td>\n",
       "      <td>0</td>\n",
       "      <td>0</td>\n",
       "      <td>40</td>\n",
       "    </tr>\n",
       "    <tr>\n",
       "      <th>4</th>\n",
       "      <td>12</td>\n",
       "      <td>4</td>\n",
       "      <td>6</td>\n",
       "      <td>6</td>\n",
       "      <td>0</td>\n",
       "      <td>6</td>\n",
       "      <td>16</td>\n",
       "    </tr>\n",
       "    <tr>\n",
       "      <th>...</th>\n",
       "      <td>...</td>\n",
       "      <td>...</td>\n",
       "      <td>...</td>\n",
       "      <td>...</td>\n",
       "      <td>...</td>\n",
       "      <td>...</td>\n",
       "      <td>...</td>\n",
       "    </tr>\n",
       "    <tr>\n",
       "      <th>61515</th>\n",
       "      <td>22</td>\n",
       "      <td>7</td>\n",
       "      <td>10</td>\n",
       "      <td>12</td>\n",
       "      <td>0</td>\n",
       "      <td>12</td>\n",
       "      <td>29</td>\n",
       "    </tr>\n",
       "    <tr>\n",
       "      <th>61516</th>\n",
       "      <td>3</td>\n",
       "      <td>37</td>\n",
       "      <td>2</td>\n",
       "      <td>1</td>\n",
       "      <td>0</td>\n",
       "      <td>1</td>\n",
       "      <td>40</td>\n",
       "    </tr>\n",
       "    <tr>\n",
       "      <th>61517</th>\n",
       "      <td>6</td>\n",
       "      <td>34</td>\n",
       "      <td>4</td>\n",
       "      <td>2</td>\n",
       "      <td>0</td>\n",
       "      <td>2</td>\n",
       "      <td>40</td>\n",
       "    </tr>\n",
       "    <tr>\n",
       "      <th>61518</th>\n",
       "      <td>2</td>\n",
       "      <td>28</td>\n",
       "      <td>2</td>\n",
       "      <td>0</td>\n",
       "      <td>0</td>\n",
       "      <td>0</td>\n",
       "      <td>30</td>\n",
       "    </tr>\n",
       "    <tr>\n",
       "      <th>61519</th>\n",
       "      <td>19</td>\n",
       "      <td>21</td>\n",
       "      <td>13</td>\n",
       "      <td>6</td>\n",
       "      <td>0</td>\n",
       "      <td>6</td>\n",
       "      <td>40</td>\n",
       "    </tr>\n",
       "  </tbody>\n",
       "</table>\n",
       "<p>61520 rows × 7 columns</p>\n",
       "</div>"
      ],
      "text/plain": [
       "       bikes  stands  mechanicalBikes  electricalBikes  \\\n",
       "0          0      20                0                0   \n",
       "1          4      28                4                0   \n",
       "2          2      38                0                2   \n",
       "3          2      38                2                0   \n",
       "4         12       4                6                6   \n",
       "...      ...     ...              ...              ...   \n",
       "61515     22       7               10               12   \n",
       "61516      3      37                2                1   \n",
       "61517      6      34                4                2   \n",
       "61518      2      28                2                0   \n",
       "61519     19      21               13                6   \n",
       "\n",
       "       electricalInternalBatteryBikes  electricalRemovableBatteryBikes  \\\n",
       "0                                   0                                0   \n",
       "1                                   0                                0   \n",
       "2                                   0                                2   \n",
       "3                                   0                                0   \n",
       "4                                   0                                6   \n",
       "...                               ...                              ...   \n",
       "61515                               0                               12   \n",
       "61516                               0                                1   \n",
       "61517                               0                                2   \n",
       "61518                               0                                0   \n",
       "61519                               0                                6   \n",
       "\n",
       "       capacity  \n",
       "0            20  \n",
       "1            32  \n",
       "2            40  \n",
       "3            40  \n",
       "4            16  \n",
       "...         ...  \n",
       "61515        29  \n",
       "61516        40  \n",
       "61517        40  \n",
       "61518        30  \n",
       "61519        40  \n",
       "\n",
       "[61520 rows x 7 columns]"
      ]
     },
     "execution_count": 33,
     "metadata": {},
     "output_type": "execute_result"
    }
   ],
   "source": [
    "stands_dataframe = stands_dataframe.assign(capacity=total_stands.apply(lambda x: x['capacity']))\n",
    "stands_dataframe"
   ]
  },
  {
   "cell_type": "code",
   "execution_count": 34,
   "id": "70914fcd",
   "metadata": {},
   "outputs": [
    {
     "data": {
      "text/html": [
       "<div>\n",
       "<style scoped>\n",
       "    .dataframe tbody tr th:only-of-type {\n",
       "        vertical-align: middle;\n",
       "    }\n",
       "\n",
       "    .dataframe tbody tr th {\n",
       "        vertical-align: top;\n",
       "    }\n",
       "\n",
       "    .dataframe thead th {\n",
       "        text-align: right;\n",
       "    }\n",
       "</style>\n",
       "<table border=\"1\" class=\"dataframe\">\n",
       "  <thead>\n",
       "    <tr style=\"text-align: right;\">\n",
       "      <th></th>\n",
       "      <th>number</th>\n",
       "      <th>contractName</th>\n",
       "      <th>name</th>\n",
       "      <th>position</th>\n",
       "      <th>banking</th>\n",
       "      <th>bonus</th>\n",
       "      <th>status</th>\n",
       "      <th>connected</th>\n",
       "      <th>overflow</th>\n",
       "      <th>totalStands</th>\n",
       "      <th>dates</th>\n",
       "      <th>bikes</th>\n",
       "      <th>stands</th>\n",
       "      <th>mechanicalBikes</th>\n",
       "      <th>electricalBikes</th>\n",
       "      <th>electricalInternalBatteryBikes</th>\n",
       "      <th>electricalRemovableBatteryBikes</th>\n",
       "      <th>capacity</th>\n",
       "    </tr>\n",
       "  </thead>\n",
       "  <tbody>\n",
       "    <tr>\n",
       "      <th>0</th>\n",
       "      <td>3</td>\n",
       "      <td>dublin</td>\n",
       "      <td>BOLTON STREET</td>\n",
       "      <td>{'latitude': 53.351182, 'longitude': -6.269859}</td>\n",
       "      <td>False</td>\n",
       "      <td>False</td>\n",
       "      <td>OPEN</td>\n",
       "      <td>True</td>\n",
       "      <td>False</td>\n",
       "      <td>{'availabilities': {'bikes': 0, 'stands': 20, ...</td>\n",
       "      <td>02/12/2022 07:47</td>\n",
       "      <td>0</td>\n",
       "      <td>20</td>\n",
       "      <td>0</td>\n",
       "      <td>0</td>\n",
       "      <td>0</td>\n",
       "      <td>0</td>\n",
       "      <td>20</td>\n",
       "    </tr>\n",
       "    <tr>\n",
       "      <th>1</th>\n",
       "      <td>52</td>\n",
       "      <td>dublin</td>\n",
       "      <td>YORK STREET EAST</td>\n",
       "      <td>{'latitude': 53.338755, 'longitude': -6.262003}</td>\n",
       "      <td>False</td>\n",
       "      <td>False</td>\n",
       "      <td>OPEN</td>\n",
       "      <td>True</td>\n",
       "      <td>False</td>\n",
       "      <td>{'availabilities': {'bikes': 4, 'stands': 28, ...</td>\n",
       "      <td>02/12/2022 07:47</td>\n",
       "      <td>4</td>\n",
       "      <td>28</td>\n",
       "      <td>4</td>\n",
       "      <td>0</td>\n",
       "      <td>0</td>\n",
       "      <td>0</td>\n",
       "      <td>32</td>\n",
       "    </tr>\n",
       "    <tr>\n",
       "      <th>2</th>\n",
       "      <td>71</td>\n",
       "      <td>dublin</td>\n",
       "      <td>KEVIN STREET</td>\n",
       "      <td>{'latitude': 53.337757, 'longitude': -6.267699}</td>\n",
       "      <td>False</td>\n",
       "      <td>False</td>\n",
       "      <td>OPEN</td>\n",
       "      <td>True</td>\n",
       "      <td>False</td>\n",
       "      <td>{'availabilities': {'bikes': 2, 'stands': 38, ...</td>\n",
       "      <td>02/12/2022 07:47</td>\n",
       "      <td>2</td>\n",
       "      <td>38</td>\n",
       "      <td>0</td>\n",
       "      <td>2</td>\n",
       "      <td>0</td>\n",
       "      <td>2</td>\n",
       "      <td>40</td>\n",
       "    </tr>\n",
       "    <tr>\n",
       "      <th>3</th>\n",
       "      <td>89</td>\n",
       "      <td>dublin</td>\n",
       "      <td>FITZWILLIAM SQUARE EAST</td>\n",
       "      <td>{'latitude': 53.335211, 'longitude': -6.2509}</td>\n",
       "      <td>False</td>\n",
       "      <td>False</td>\n",
       "      <td>OPEN</td>\n",
       "      <td>True</td>\n",
       "      <td>False</td>\n",
       "      <td>{'availabilities': {'bikes': 2, 'stands': 38, ...</td>\n",
       "      <td>02/12/2022 07:47</td>\n",
       "      <td>2</td>\n",
       "      <td>38</td>\n",
       "      <td>2</td>\n",
       "      <td>0</td>\n",
       "      <td>0</td>\n",
       "      <td>0</td>\n",
       "      <td>40</td>\n",
       "    </tr>\n",
       "    <tr>\n",
       "      <th>4</th>\n",
       "      <td>15</td>\n",
       "      <td>dublin</td>\n",
       "      <td>HARDWICKE STREET</td>\n",
       "      <td>{'latitude': 53.355473, 'longitude': -6.264423}</td>\n",
       "      <td>False</td>\n",
       "      <td>False</td>\n",
       "      <td>OPEN</td>\n",
       "      <td>True</td>\n",
       "      <td>False</td>\n",
       "      <td>{'availabilities': {'bikes': 12, 'stands': 4, ...</td>\n",
       "      <td>02/12/2022 07:47</td>\n",
       "      <td>12</td>\n",
       "      <td>4</td>\n",
       "      <td>6</td>\n",
       "      <td>6</td>\n",
       "      <td>0</td>\n",
       "      <td>6</td>\n",
       "      <td>16</td>\n",
       "    </tr>\n",
       "    <tr>\n",
       "      <th>...</th>\n",
       "      <td>...</td>\n",
       "      <td>...</td>\n",
       "      <td>...</td>\n",
       "      <td>...</td>\n",
       "      <td>...</td>\n",
       "      <td>...</td>\n",
       "      <td>...</td>\n",
       "      <td>...</td>\n",
       "      <td>...</td>\n",
       "      <td>...</td>\n",
       "      <td>...</td>\n",
       "      <td>...</td>\n",
       "      <td>...</td>\n",
       "      <td>...</td>\n",
       "      <td>...</td>\n",
       "      <td>...</td>\n",
       "      <td>...</td>\n",
       "      <td>...</td>\n",
       "    </tr>\n",
       "    <tr>\n",
       "      <th>61515</th>\n",
       "      <td>29</td>\n",
       "      <td>dublin</td>\n",
       "      <td>ORMOND QUAY UPPER</td>\n",
       "      <td>{'latitude': 53.346057, 'longitude': -6.268001}</td>\n",
       "      <td>False</td>\n",
       "      <td>False</td>\n",
       "      <td>OPEN</td>\n",
       "      <td>True</td>\n",
       "      <td>False</td>\n",
       "      <td>{'availabilities': {'bikes': 22, 'stands': 7, ...</td>\n",
       "      <td>08/12/2022 19:56</td>\n",
       "      <td>22</td>\n",
       "      <td>7</td>\n",
       "      <td>10</td>\n",
       "      <td>12</td>\n",
       "      <td>0</td>\n",
       "      <td>12</td>\n",
       "      <td>29</td>\n",
       "    </tr>\n",
       "    <tr>\n",
       "      <th>61516</th>\n",
       "      <td>78</td>\n",
       "      <td>dublin</td>\n",
       "      <td>MATER HOSPITAL</td>\n",
       "      <td>{'latitude': 53.359967, 'longitude': -6.264828}</td>\n",
       "      <td>False</td>\n",
       "      <td>False</td>\n",
       "      <td>OPEN</td>\n",
       "      <td>True</td>\n",
       "      <td>False</td>\n",
       "      <td>{'availabilities': {'bikes': 3, 'stands': 37, ...</td>\n",
       "      <td>08/12/2022 19:56</td>\n",
       "      <td>3</td>\n",
       "      <td>37</td>\n",
       "      <td>2</td>\n",
       "      <td>1</td>\n",
       "      <td>0</td>\n",
       "      <td>1</td>\n",
       "      <td>40</td>\n",
       "    </tr>\n",
       "    <tr>\n",
       "      <th>61517</th>\n",
       "      <td>69</td>\n",
       "      <td>dublin</td>\n",
       "      <td>GRAND CANAL DOCK</td>\n",
       "      <td>{'latitude': 53.342638, 'longitude': -6.238695}</td>\n",
       "      <td>False</td>\n",
       "      <td>False</td>\n",
       "      <td>OPEN</td>\n",
       "      <td>True</td>\n",
       "      <td>False</td>\n",
       "      <td>{'availabilities': {'bikes': 6, 'stands': 34, ...</td>\n",
       "      <td>08/12/2022 19:56</td>\n",
       "      <td>6</td>\n",
       "      <td>34</td>\n",
       "      <td>4</td>\n",
       "      <td>2</td>\n",
       "      <td>0</td>\n",
       "      <td>2</td>\n",
       "      <td>40</td>\n",
       "    </tr>\n",
       "    <tr>\n",
       "      <th>61518</th>\n",
       "      <td>116</td>\n",
       "      <td>dublin</td>\n",
       "      <td>BROADSTONE</td>\n",
       "      <td>{'latitude': 53.3547, 'longitude': -6.272314}</td>\n",
       "      <td>False</td>\n",
       "      <td>False</td>\n",
       "      <td>OPEN</td>\n",
       "      <td>True</td>\n",
       "      <td>False</td>\n",
       "      <td>{'availabilities': {'bikes': 2, 'stands': 28, ...</td>\n",
       "      <td>08/12/2022 19:56</td>\n",
       "      <td>2</td>\n",
       "      <td>28</td>\n",
       "      <td>2</td>\n",
       "      <td>0</td>\n",
       "      <td>0</td>\n",
       "      <td>0</td>\n",
       "      <td>30</td>\n",
       "    </tr>\n",
       "    <tr>\n",
       "      <th>61519</th>\n",
       "      <td>80</td>\n",
       "      <td>dublin</td>\n",
       "      <td>ST JAMES HOSPITAL (LUAS)</td>\n",
       "      <td>{'latitude': 53.341359, 'longitude': -6.292951}</td>\n",
       "      <td>False</td>\n",
       "      <td>False</td>\n",
       "      <td>OPEN</td>\n",
       "      <td>True</td>\n",
       "      <td>False</td>\n",
       "      <td>{'availabilities': {'bikes': 19, 'stands': 21,...</td>\n",
       "      <td>08/12/2022 19:56</td>\n",
       "      <td>19</td>\n",
       "      <td>21</td>\n",
       "      <td>13</td>\n",
       "      <td>6</td>\n",
       "      <td>0</td>\n",
       "      <td>6</td>\n",
       "      <td>40</td>\n",
       "    </tr>\n",
       "  </tbody>\n",
       "</table>\n",
       "<p>61520 rows × 18 columns</p>\n",
       "</div>"
      ],
      "text/plain": [
       "       number contractName                      name  \\\n",
       "0           3       dublin             BOLTON STREET   \n",
       "1          52       dublin          YORK STREET EAST   \n",
       "2          71       dublin              KEVIN STREET   \n",
       "3          89       dublin   FITZWILLIAM SQUARE EAST   \n",
       "4          15       dublin          HARDWICKE STREET   \n",
       "...       ...          ...                       ...   \n",
       "61515      29       dublin         ORMOND QUAY UPPER   \n",
       "61516      78       dublin            MATER HOSPITAL   \n",
       "61517      69       dublin          GRAND CANAL DOCK   \n",
       "61518     116       dublin                BROADSTONE   \n",
       "61519      80       dublin  ST JAMES HOSPITAL (LUAS)   \n",
       "\n",
       "                                              position  banking  bonus status  \\\n",
       "0      {'latitude': 53.351182, 'longitude': -6.269859}    False  False   OPEN   \n",
       "1      {'latitude': 53.338755, 'longitude': -6.262003}    False  False   OPEN   \n",
       "2      {'latitude': 53.337757, 'longitude': -6.267699}    False  False   OPEN   \n",
       "3        {'latitude': 53.335211, 'longitude': -6.2509}    False  False   OPEN   \n",
       "4      {'latitude': 53.355473, 'longitude': -6.264423}    False  False   OPEN   \n",
       "...                                                ...      ...    ...    ...   \n",
       "61515  {'latitude': 53.346057, 'longitude': -6.268001}    False  False   OPEN   \n",
       "61516  {'latitude': 53.359967, 'longitude': -6.264828}    False  False   OPEN   \n",
       "61517  {'latitude': 53.342638, 'longitude': -6.238695}    False  False   OPEN   \n",
       "61518    {'latitude': 53.3547, 'longitude': -6.272314}    False  False   OPEN   \n",
       "61519  {'latitude': 53.341359, 'longitude': -6.292951}    False  False   OPEN   \n",
       "\n",
       "       connected  overflow                                        totalStands  \\\n",
       "0           True     False  {'availabilities': {'bikes': 0, 'stands': 20, ...   \n",
       "1           True     False  {'availabilities': {'bikes': 4, 'stands': 28, ...   \n",
       "2           True     False  {'availabilities': {'bikes': 2, 'stands': 38, ...   \n",
       "3           True     False  {'availabilities': {'bikes': 2, 'stands': 38, ...   \n",
       "4           True     False  {'availabilities': {'bikes': 12, 'stands': 4, ...   \n",
       "...          ...       ...                                                ...   \n",
       "61515       True     False  {'availabilities': {'bikes': 22, 'stands': 7, ...   \n",
       "61516       True     False  {'availabilities': {'bikes': 3, 'stands': 37, ...   \n",
       "61517       True     False  {'availabilities': {'bikes': 6, 'stands': 34, ...   \n",
       "61518       True     False  {'availabilities': {'bikes': 2, 'stands': 28, ...   \n",
       "61519       True     False  {'availabilities': {'bikes': 19, 'stands': 21,...   \n",
       "\n",
       "                  dates  bikes  stands  mechanicalBikes  electricalBikes  \\\n",
       "0      02/12/2022 07:47      0      20                0                0   \n",
       "1      02/12/2022 07:47      4      28                4                0   \n",
       "2      02/12/2022 07:47      2      38                0                2   \n",
       "3      02/12/2022 07:47      2      38                2                0   \n",
       "4      02/12/2022 07:47     12       4                6                6   \n",
       "...                 ...    ...     ...              ...              ...   \n",
       "61515  08/12/2022 19:56     22       7               10               12   \n",
       "61516  08/12/2022 19:56      3      37                2                1   \n",
       "61517  08/12/2022 19:56      6      34                4                2   \n",
       "61518  08/12/2022 19:56      2      28                2                0   \n",
       "61519  08/12/2022 19:56     19      21               13                6   \n",
       "\n",
       "       electricalInternalBatteryBikes  electricalRemovableBatteryBikes  \\\n",
       "0                                   0                                0   \n",
       "1                                   0                                0   \n",
       "2                                   0                                2   \n",
       "3                                   0                                0   \n",
       "4                                   0                                6   \n",
       "...                               ...                              ...   \n",
       "61515                               0                               12   \n",
       "61516                               0                                1   \n",
       "61517                               0                                2   \n",
       "61518                               0                                0   \n",
       "61519                               0                                6   \n",
       "\n",
       "       capacity  \n",
       "0            20  \n",
       "1            32  \n",
       "2            40  \n",
       "3            40  \n",
       "4            16  \n",
       "...         ...  \n",
       "61515        29  \n",
       "61516        40  \n",
       "61517        40  \n",
       "61518        30  \n",
       "61519        40  \n",
       "\n",
       "[61520 rows x 18 columns]"
      ]
     },
     "execution_count": 34,
     "metadata": {},
     "output_type": "execute_result"
    }
   ],
   "source": [
    "bikes_table = bikes_table.join(stands_dataframe)\n",
    "bikes_table"
   ]
  },
  {
   "cell_type": "code",
   "execution_count": null,
   "id": "6a8c4f66",
   "metadata": {},
   "outputs": [],
   "source": []
  },
  {
   "cell_type": "code",
   "execution_count": 35,
   "id": "52fc3c82",
   "metadata": {
    "scrolled": true
   },
   "outputs": [
    {
     "data": {
      "text/html": [
       "<div>\n",
       "<style scoped>\n",
       "    .dataframe tbody tr th:only-of-type {\n",
       "        vertical-align: middle;\n",
       "    }\n",
       "\n",
       "    .dataframe tbody tr th {\n",
       "        vertical-align: top;\n",
       "    }\n",
       "\n",
       "    .dataframe thead th {\n",
       "        text-align: right;\n",
       "    }\n",
       "</style>\n",
       "<table border=\"1\" class=\"dataframe\">\n",
       "  <thead>\n",
       "    <tr style=\"text-align: right;\">\n",
       "      <th></th>\n",
       "      <th>number</th>\n",
       "      <th>contractName</th>\n",
       "      <th>name</th>\n",
       "      <th>position</th>\n",
       "      <th>banking</th>\n",
       "      <th>bonus</th>\n",
       "      <th>status</th>\n",
       "      <th>connected</th>\n",
       "      <th>overflow</th>\n",
       "      <th>totalStands</th>\n",
       "      <th>dates</th>\n",
       "      <th>bikes</th>\n",
       "      <th>stands</th>\n",
       "      <th>mechanicalBikes</th>\n",
       "      <th>electricalBikes</th>\n",
       "      <th>electricalInternalBatteryBikes</th>\n",
       "      <th>electricalRemovableBatteryBikes</th>\n",
       "      <th>capacity</th>\n",
       "    </tr>\n",
       "  </thead>\n",
       "  <tbody>\n",
       "    <tr>\n",
       "      <th>0</th>\n",
       "      <td>3</td>\n",
       "      <td>dublin</td>\n",
       "      <td>BOLTON STREET</td>\n",
       "      <td>{'latitude': 53.351182, 'longitude': -6.269859}</td>\n",
       "      <td>False</td>\n",
       "      <td>False</td>\n",
       "      <td>OPEN</td>\n",
       "      <td>True</td>\n",
       "      <td>False</td>\n",
       "      <td>{'availabilities': {'bikes': 0, 'stands': 20, ...</td>\n",
       "      <td>02/12/2022 07:47</td>\n",
       "      <td>0</td>\n",
       "      <td>20</td>\n",
       "      <td>0</td>\n",
       "      <td>0</td>\n",
       "      <td>0</td>\n",
       "      <td>0</td>\n",
       "      <td>20</td>\n",
       "    </tr>\n",
       "    <tr>\n",
       "      <th>1</th>\n",
       "      <td>52</td>\n",
       "      <td>dublin</td>\n",
       "      <td>YORK STREET EAST</td>\n",
       "      <td>{'latitude': 53.338755, 'longitude': -6.262003}</td>\n",
       "      <td>False</td>\n",
       "      <td>False</td>\n",
       "      <td>OPEN</td>\n",
       "      <td>True</td>\n",
       "      <td>False</td>\n",
       "      <td>{'availabilities': {'bikes': 4, 'stands': 28, ...</td>\n",
       "      <td>02/12/2022 07:47</td>\n",
       "      <td>4</td>\n",
       "      <td>28</td>\n",
       "      <td>4</td>\n",
       "      <td>0</td>\n",
       "      <td>0</td>\n",
       "      <td>0</td>\n",
       "      <td>32</td>\n",
       "    </tr>\n",
       "    <tr>\n",
       "      <th>2</th>\n",
       "      <td>71</td>\n",
       "      <td>dublin</td>\n",
       "      <td>KEVIN STREET</td>\n",
       "      <td>{'latitude': 53.337757, 'longitude': -6.267699}</td>\n",
       "      <td>False</td>\n",
       "      <td>False</td>\n",
       "      <td>OPEN</td>\n",
       "      <td>True</td>\n",
       "      <td>False</td>\n",
       "      <td>{'availabilities': {'bikes': 2, 'stands': 38, ...</td>\n",
       "      <td>02/12/2022 07:47</td>\n",
       "      <td>2</td>\n",
       "      <td>38</td>\n",
       "      <td>0</td>\n",
       "      <td>2</td>\n",
       "      <td>0</td>\n",
       "      <td>2</td>\n",
       "      <td>40</td>\n",
       "    </tr>\n",
       "  </tbody>\n",
       "</table>\n",
       "</div>"
      ],
      "text/plain": [
       "   number contractName              name  \\\n",
       "0       3       dublin     BOLTON STREET   \n",
       "1      52       dublin  YORK STREET EAST   \n",
       "2      71       dublin      KEVIN STREET   \n",
       "\n",
       "                                          position  banking  bonus status  \\\n",
       "0  {'latitude': 53.351182, 'longitude': -6.269859}    False  False   OPEN   \n",
       "1  {'latitude': 53.338755, 'longitude': -6.262003}    False  False   OPEN   \n",
       "2  {'latitude': 53.337757, 'longitude': -6.267699}    False  False   OPEN   \n",
       "\n",
       "   connected  overflow                                        totalStands  \\\n",
       "0       True     False  {'availabilities': {'bikes': 0, 'stands': 20, ...   \n",
       "1       True     False  {'availabilities': {'bikes': 4, 'stands': 28, ...   \n",
       "2       True     False  {'availabilities': {'bikes': 2, 'stands': 38, ...   \n",
       "\n",
       "              dates  bikes  stands  mechanicalBikes  electricalBikes  \\\n",
       "0  02/12/2022 07:47      0      20                0                0   \n",
       "1  02/12/2022 07:47      4      28                4                0   \n",
       "2  02/12/2022 07:47      2      38                0                2   \n",
       "\n",
       "   electricalInternalBatteryBikes  electricalRemovableBatteryBikes  capacity  \n",
       "0                               0                                0        20  \n",
       "1                               0                                0        32  \n",
       "2                               0                                2        40  "
      ]
     },
     "execution_count": 35,
     "metadata": {},
     "output_type": "execute_result"
    }
   ],
   "source": [
    "bikes_table.head(3)"
   ]
  },
  {
   "cell_type": "markdown",
   "id": "962174e3",
   "metadata": {},
   "source": [
    "## Check the other columns usability  <a class=\"anchor\" id=\"usability\"></a>"
   ]
  },
  {
   "cell_type": "markdown",
   "id": "9ca62f62",
   "metadata": {},
   "source": [
    "**'number'** column represents single id of stands inside the 'dublin' contract.  \n",
    "Per content, it is usable for our analysis."
   ]
  },
  {
   "cell_type": "code",
   "execution_count": 36,
   "id": "c78c5fbe",
   "metadata": {
    "scrolled": true
   },
   "outputs": [
    {
     "data": {
      "text/plain": [
       "array([  3,  52,  71,  89,  15,  12,  88,  40,  51,  17,   6,  98,  31,\n",
       "        24,   2, 110,   7, 101,  20,  66, 100,  37,  50,  82,  79,  56,\n",
       "        39,  77,  55,  13,  84,  10,  26,  53, 104,  33,  47,  35,  22,\n",
       "       108,  87,  41,  61,  80,  42,  30, 117,   9,  99,  57,  72,  96,\n",
       "         8,  65,  76,  45,   1,  48,  29,  18,  86,  68,  25,   5,  69,\n",
       "        74,  63,  16, 107, 111,  11, 114,  95,  21,   4,  34, 115,  94,\n",
       "        14,  54,  60,  90,  97,  19,  78,  58,  85,  32, 109,  83, 105,\n",
       "        93,  27, 116,  44,  43, 103,  92,  75,  49,  91,  38, 113,  62,\n",
       "       102, 112,  64, 106,  59,  67,  23,  28,  36], dtype=int64)"
      ]
     },
     "execution_count": 36,
     "metadata": {},
     "output_type": "execute_result"
    }
   ],
   "source": [
    "# Select the column to display and assign it\n",
    "number_column = bikes_table.iloc[: , 0]\n",
    "\n",
    "# get unique values \n",
    "number_unique = number_column.unique()\n",
    "number_unique"
   ]
  },
  {
   "cell_type": "markdown",
   "id": "af3b88ad",
   "metadata": {},
   "source": [
    "**'contractName'** column presents a single value of **'dublin'**.  \n",
    "It is not needed in the dataframe but will be mentioned in the findings."
   ]
  },
  {
   "cell_type": "code",
   "execution_count": 37,
   "id": "dbcf55e8",
   "metadata": {},
   "outputs": [
    {
     "name": "stdout",
     "output_type": "stream",
     "text": [
      "['dublin']\n"
     ]
    }
   ],
   "source": [
    "contractName_column = bikes_table.iloc[: , 1]\n",
    "contractName_unique = contractName_column.unique()\n",
    "print(contractName_unique)"
   ]
  },
  {
   "cell_type": "markdown",
   "id": "a9b099cb",
   "metadata": {},
   "source": [
    "**'name'** column represents identification of address and usable information for analysis."
   ]
  },
  {
   "cell_type": "code",
   "execution_count": 38,
   "id": "2ee76c05",
   "metadata": {},
   "outputs": [
    {
     "name": "stdout",
     "output_type": "stream",
     "text": [
      "['BOLTON STREET' 'YORK STREET EAST' 'KEVIN STREET'\n",
      " 'FITZWILLIAM SQUARE EAST' 'HARDWICKE STREET' 'ECCLES STREET'\n",
      " 'BLACKHALL PLACE' 'JERVIS STREET' 'YORK STREET WEST' 'GOLDEN LANE'\n",
      " 'CHRISTCHURCH PLACE' 'FREDERICK STREET SOUTH' 'PARNELL STREET'\n",
      " 'CATHAL BRUGHA STREET' 'BLESSINGTON STREET' 'PHIBSBOROUGH ROAD'\n",
      " 'HIGH STREET' 'KING STREET NORTH' 'JAMES STREET EAST' 'NEW CENTRAL BANK'\n",
      " 'HEUSTON BRIDGE (SOUTH)' \"ST. STEPHEN'S GREEN SOUTH\" 'GEORGES LANE'\n",
      " 'MOUNT BROWN' 'ECCLES STREET EAST' 'MOUNT STREET LOWER' 'WILTON TERRACE'\n",
      " 'WOLFE TONE STREET' 'HATCH STREET' 'FITZWILLIAM SQUARE WEST'\n",
      " 'BROOKFIELD ROAD' 'DAME STREET' 'MERRION SQUARE WEST' 'NEWMAN HOUSE'\n",
      " 'GRANGEGORMAN LOWER (CENTRAL)' \"PRINCES STREET / O'CONNELL STREET\"\n",
      " 'HERBERT STREET' 'SMITHFIELD' 'TOWNSEND STREET' 'AVONDALE ROAD'\n",
      " 'COLLINS BARRACKS MUSEUM' 'HARCOURT TERRACE' 'HARDWICKE PLACE'\n",
      " 'ST JAMES HOSPITAL (LUAS)' 'SMITHFIELD NORTH' 'PARNELL SQUARE NORTH'\n",
      " 'HANOVER QUAY EAST' 'EXCHEQUER STREET' 'CITY QUAY' 'GRATTAN STREET'\n",
      " 'JOHN STREET WEST' 'KILMAINHAM LANE' 'CUSTOM HOUSE QUAY'\n",
      " 'CONVENTION CENTRE' 'MARKET STREET SOUTH' 'DEVERELL PLACE'\n",
      " 'CLARENDON ROW' 'EXCISE WALK' 'ORMOND QUAY UPPER' 'GRANTHAM STREET'\n",
      " 'PARKGATE STREET' 'HANOVER QUAY' 'MERRION SQUARE EAST' 'CHARLEMONT PLACE'\n",
      " 'GRAND CANAL DOCK' 'OLIVER BOND STREET' 'FENIAN STREET' 'GEORGES QUAY'\n",
      " 'CHARLEVILLE ROAD' 'MOUNTJOY SQUARE EAST' 'EARLSFORT TERRACE'\n",
      " 'WILTON TERRACE (PARK)' 'ROYAL HOSPITAL' 'LEINSTER STREET SOUTH'\n",
      " 'GREEK STREET' 'PORTOBELLO HARBOUR' 'KILLARNEY STREET'\n",
      " 'HEUSTON STATION (CAR PARK)' 'FOWNES STREET UPPER' 'CLONMEL STREET'\n",
      " 'NORTH CIRCULAR ROAD' 'BENSON STREET' 'KILMAINHAM GAOL' 'HERBERT PLACE'\n",
      " 'MATER HOSPITAL' \"SIR PATRICK DUN'S\" 'ROTHE ABBEY' 'PEARSE STREET'\n",
      " 'BUCKINGHAM STREET LOWER' 'EMMET ROAD' 'GRANGEGORMAN LOWER (NORTH)'\n",
      " 'HEUSTON STATION (CENTRAL)' 'MOLESWORTH STREET' 'BROADSTONE'\n",
      " 'UPPER SHERRARD STREET' 'PORTOBELLO ROAD' 'GRANGEGORMAN LOWER (SOUTH)'\n",
      " 'HEUSTON BRIDGE (NORTH)' 'JAMES STREET' 'GUILD STREET' 'SOUTH DOCK ROAD'\n",
      " 'TALBOT STREET' 'MERRION SQUARE SOUTH' 'LIME STREET' 'WESTERN WAY'\n",
      " \"NORTH CIRCULAR ROAD (O'CONNELL'S)\" 'SANDWITH STREET' 'RATHDOWN ROAD'\n",
      " 'DENMARK STREET GREAT' 'THE POINT' 'CUSTOM HOUSE' 'MOUNTJOY SQUARE WEST'\n",
      " \"ST. STEPHEN'S GREEN EAST\"]\n"
     ]
    }
   ],
   "source": [
    "name_column = bikes_table.iloc[: , 2]\n",
    "name_unique = name_column.unique()\n",
    "print(name_unique)"
   ]
  },
  {
   "cell_type": "markdown",
   "id": "b27cb1ff",
   "metadata": {},
   "source": [
    "**'position'** is related to geometric coordinates. It is usable but will not be considered for this analysis."
   ]
  },
  {
   "cell_type": "code",
   "execution_count": 39,
   "id": "38f80159",
   "metadata": {},
   "outputs": [
    {
     "name": "stdout",
     "output_type": "stream",
     "text": [
      "[\"{'latitude': 53.351182, 'longitude': -6.269859}\"\n",
      " \"{'latitude': 53.338755, 'longitude': -6.262003}\"\n",
      " \"{'latitude': 53.337757, 'longitude': -6.267699}\"\n",
      " \"{'latitude': 53.335211, 'longitude': -6.2509}\"\n",
      " \"{'latitude': 53.355473, 'longitude': -6.264423}\"\n",
      " \"{'latitude': 53.359246, 'longitude': -6.269779}\"\n",
      " \"{'latitude': 53.3488, 'longitude': -6.281637}\"\n",
      " \"{'latitude': 53.3483, 'longitude': -6.266651}\"\n",
      " \"{'latitude': 53.339334, 'longitude': -6.264699}\"\n",
      " \"{'latitude': 53.340803, 'longitude': -6.267732}\"\n",
      " \"{'latitude': 53.343368, 'longitude': -6.27012}\"\n",
      " \"{'latitude': 53.341515, 'longitude': -6.256853}\"\n",
      " \"{'latitude': 53.350929, 'longitude': -6.265125}\"\n",
      " \"{'latitude': 53.352149, 'longitude': -6.260533}\"\n",
      " \"{'latitude': 53.356769, 'longitude': -6.26814}\"\n",
      " \"{'latitude': 53.356307, 'longitude': -6.273717}\"\n",
      " \"{'latitude': 53.343565, 'longitude': -6.275071}\"\n",
      " \"{'latitude': 53.350291, 'longitude': -6.273507}\"\n",
      " \"{'latitude': 53.336597, 'longitude': -6.248109}\"\n",
      " \"{'latitude': 53.347122, 'longitude': -6.234749}\"\n",
      " \"{'latitude': 53.347106, 'longitude': -6.292041}\"\n",
      " \"{'latitude': 53.337494, 'longitude': -6.26199}\"\n",
      " \"{'latitude': 53.35023, 'longitude': -6.279696}\"\n",
      " \"{'latitude': 53.341645, 'longitude': -6.29719}\"\n",
      " \"{'latitude': 53.358115, 'longitude': -6.265601}\"\n",
      " \"{'latitude': 53.33796, 'longitude': -6.24153}\"\n",
      " \"{'latitude': 53.332383, 'longitude': -6.252717}\"\n",
      " \"{'latitude': 53.348875, 'longitude': -6.267459}\"\n",
      " \"{'latitude': 53.33403, 'longitude': -6.260714}\"\n",
      " \"{'latitude': 53.336074, 'longitude': -6.252825}\"\n",
      " \"{'latitude': 53.339005, 'longitude': -6.300217}\"\n",
      " \"{'latitude': 53.344007, 'longitude': -6.266802}\"\n",
      " \"{'latitude': 53.339764, 'longitude': -6.251988}\"\n",
      " \"{'latitude': 53.337132, 'longitude': -6.26059}\"\n",
      " \"{'latitude': 53.355173, 'longitude': -6.278424}\"\n",
      " \"{'latitude': 53.349013, 'longitude': -6.260311}\"\n",
      " \"{'latitude': 53.335742, 'longitude': -6.24551}\"\n",
      " \"{'latitude': 53.347692, 'longitude': -6.278214}\"\n",
      " \"{'latitude': 53.345922, 'longitude': -6.254614}\"\n",
      " \"{'latitude': 53.359405, 'longitude': -6.276142}\"\n",
      " \"{'latitude': 53.347477, 'longitude': -6.28525}\"\n",
      " \"{'latitude': 53.332763, 'longitude': -6.257942}\"\n",
      " \"{'latitude': 53.357043, 'longitude': -6.263232}\"\n",
      " \"{'latitude': 53.341359, 'longitude': -6.292951}\"\n",
      " \"{'latitude': 53.349562, 'longitude': -6.278198}\"\n",
      " \"{'latitude': 53.3537415547453, 'longitude': -6.26530144781526}\"\n",
      " \"{'latitude': 53.343653, 'longitude': -6.231755}\"\n",
      " \"{'latitude': 53.343034, 'longitude': -6.263578}\"\n",
      " \"{'latitude': 53.346637, 'longitude': -6.246154}\"\n",
      " \"{'latitude': 53.339629, 'longitude': -6.243778}\"\n",
      " \"{'latitude': 53.343105, 'longitude': -6.277167}\"\n",
      " \"{'latitude': 53.341805, 'longitude': -6.305085}\"\n",
      " \"{'latitude': 53.347884, 'longitude': -6.248048}\"\n",
      " \"{'latitude': 53.34744, 'longitude': -6.238523}\"\n",
      " \"{'latitude': 53.342296, 'longitude': -6.287661}\"\n",
      " \"{'latitude': 53.351464, 'longitude': -6.255265}\"\n",
      " \"{'latitude': 53.340927, 'longitude': -6.262501}\"\n",
      " \"{'latitude': 53.347777, 'longitude': -6.244239}\"\n",
      " \"{'latitude': 53.346057, 'longitude': -6.268001}\"\n",
      " \"{'latitude': 53.334123, 'longitude': -6.265436}\"\n",
      " \"{'latitude': 53.347972, 'longitude': -6.291804}\"\n",
      " \"{'latitude': 53.344115, 'longitude': -6.237153}\"\n",
      " \"{'latitude': 53.339434, 'longitude': -6.246548}\"\n",
      " \"{'latitude': 53.330662, 'longitude': -6.260177}\"\n",
      " \"{'latitude': 53.342638, 'longitude': -6.238695}\"\n",
      " \"{'latitude': 53.343893, 'longitude': -6.280531}\"\n",
      " \"{'latitude': 53.341428, 'longitude': -6.24672}\"\n",
      " \"{'latitude': 53.347508, 'longitude': -6.252192}\"\n",
      " \"{'latitude': 53.359157, 'longitude': -6.281866}\"\n",
      " \"{'latitude': 53.356717, 'longitude': -6.256359}\"\n",
      " \"{'latitude': 53.334295, 'longitude': -6.258503}\"\n",
      " \"{'latitude': 53.333653, 'longitude': -6.248345}\"\n",
      " \"{'latitude': 53.343897, 'longitude': -6.29706}\"\n",
      " \"{'latitude': 53.34218, 'longitude': -6.254485}\"\n",
      " \"{'latitude': 53.346874, 'longitude': -6.272976}\"\n",
      " \"{'latitude': 53.330362, 'longitude': -6.265163}\"\n",
      " \"{'latitude': 53.354845, 'longitude': -6.247579}\"\n",
      " \"{'latitude': 53.346985, 'longitude': -6.297804}\"\n",
      " \"{'latitude': 53.344603, 'longitude': -6.263371}\"\n",
      " \"{'latitude': 53.336021, 'longitude': -6.26298}\"\n",
      " \"{'latitude': 53.359624, 'longitude': -6.260348}\"\n",
      " \"{'latitude': 53.344153, 'longitude': -6.233451}\"\n",
      " \"{'latitude': 53.342113, 'longitude': -6.310015}\"\n",
      " \"{'latitude': 53.334432, 'longitude': -6.245575}\"\n",
      " \"{'latitude': 53.359967, 'longitude': -6.264828}\"\n",
      " \"{'latitude': 53.339218, 'longitude': -6.240642}\"\n",
      " \"{'latitude': 53.338776, 'longitude': -6.30395}\"\n",
      " \"{'latitude': 53.344304, 'longitude': -6.250427}\"\n",
      " \"{'latitude': 53.353331, 'longitude': -6.249319}\"\n",
      " \"{'latitude': 53.340714, 'longitude': -6.308191}\"\n",
      " \"{'latitude': 53.355954, 'longitude': -6.278378}\"\n",
      " \"{'latitude': 53.346603, 'longitude': -6.296924}\"\n",
      " \"{'latitude': 53.341288, 'longitude': -6.258117}\"\n",
      " \"{'latitude': 53.3547, 'longitude': -6.272314}\"\n",
      " \"{'latitude': 53.358437, 'longitude': -6.260641}\"\n",
      " \"{'latitude': 53.330091, 'longitude': -6.268044}\"\n",
      " \"{'latitude': 53.354663, 'longitude': -6.278681}\"\n",
      " \"{'latitude': 53.347802, 'longitude': -6.292432}\"\n",
      " \"{'latitude': 53.343456, 'longitude': -6.287409}\"\n",
      " \"{'latitude': 53.347932, 'longitude': -6.240928}\"\n",
      " \"{'latitude': 53.341833, 'longitude': -6.231291}\"\n",
      " \"{'latitude': 53.350974, 'longitude': -6.25294}\"\n",
      " \"{'latitude': 53.338614, 'longitude': -6.248606}\"\n",
      " \"{'latitude': 53.346026, 'longitude': -6.243576}\"\n",
      " \"{'latitude': 53.354929, 'longitude': -6.269425}\"\n",
      " \"{'latitude': 53.357841, 'longitude': -6.251557}\"\n",
      " \"{'latitude': 53.345203, 'longitude': -6.247163}\"\n",
      " \"{'latitude': 53.35893, 'longitude': -6.280337}\"\n",
      " \"{'latitude': 53.35561, 'longitude': -6.261397}\"\n",
      " \"{'latitude': 53.346867, 'longitude': -6.230852}\"\n",
      " \"{'latitude': 53.348279, 'longitude': -6.254662}\"\n",
      " \"{'latitude': 53.356299, 'longitude': -6.258586}\"\n",
      " \"{'latitude': 53.337824, 'longitude': -6.256035}\"]\n"
     ]
    }
   ],
   "source": [
    "position_column = bikes_table.iloc[: , 3]\n",
    "position_unique = position_column.unique()\n",
    "print(position_unique)"
   ]
  },
  {
   "cell_type": "markdown",
   "id": "aa8d18b9",
   "metadata": {},
   "source": [
    "**'banking'** column displays 2 distinct values (TRUE and FALSE).  \n",
    "It will be carried to the new dataframe."
   ]
  },
  {
   "cell_type": "code",
   "execution_count": 40,
   "id": "919e9663",
   "metadata": {},
   "outputs": [
    {
     "name": "stdout",
     "output_type": "stream",
     "text": [
      "[False  True]\n"
     ]
    }
   ],
   "source": [
    "banking_column = bikes_table.iloc[: , 4]\n",
    "banking_unique = banking_column.unique()\n",
    "print(banking_unique)"
   ]
  },
  {
   "cell_type": "markdown",
   "id": "5d327329",
   "metadata": {},
   "source": [
    "All **'bonus'** value are FALSE.  \n",
    "Will be mentioned in the insights but not carried on."
   ]
  },
  {
   "cell_type": "code",
   "execution_count": 41,
   "id": "931d5ef3",
   "metadata": {},
   "outputs": [
    {
     "name": "stdout",
     "output_type": "stream",
     "text": [
      "[False]\n"
     ]
    }
   ],
   "source": [
    "bonus_column = bikes_table.iloc[: , 5]\n",
    "bonus_unique = bonus_column.unique()\n",
    "print(bonus_unique)"
   ]
  },
  {
   "cell_type": "markdown",
   "id": "6b13d1d8",
   "metadata": {},
   "source": [
    "All stands display a OPEN **'status'**.  \n",
    "Will be mentioned in the insights but not carried on."
   ]
  },
  {
   "cell_type": "code",
   "execution_count": 42,
   "id": "0b9e666c",
   "metadata": {},
   "outputs": [
    {
     "name": "stdout",
     "output_type": "stream",
     "text": [
      "['OPEN']\n"
     ]
    }
   ],
   "source": [
    "status_column = bikes_table.iloc[: , 6]\n",
    "status_unique = status_column.unique()\n",
    "print(status_unique)"
   ]
  },
  {
   "cell_type": "markdown",
   "id": "c191d00e",
   "metadata": {},
   "source": [
    "Stands **'connected'** figure TRUE and FALSE and can bring insights in the analisys.\n"
   ]
  },
  {
   "cell_type": "code",
   "execution_count": 43,
   "id": "c5d41453",
   "metadata": {},
   "outputs": [
    {
     "name": "stdout",
     "output_type": "stream",
     "text": [
      "[ True False]\n"
     ]
    }
   ],
   "source": [
    "connected_column = bikes_table.iloc[: , 7]\n",
    "connected_unique = connected_column.unique()\n",
    "print(connected_unique)"
   ]
  },
  {
   "cell_type": "markdown",
   "id": "e66837ea",
   "metadata": {},
   "source": [
    "All **'overflow'** are FALSE.\n",
    "It will be mentioned in the insights but not carried to the new dataframe."
   ]
  },
  {
   "cell_type": "code",
   "execution_count": 44,
   "id": "c63a3bee",
   "metadata": {},
   "outputs": [
    {
     "name": "stdout",
     "output_type": "stream",
     "text": [
      "[False]\n"
     ]
    }
   ],
   "source": [
    "overflow_column = bikes_table.iloc[: , 8]\n",
    "overflow_unique = overflow_column.unique()\n",
    "print(overflow_unique)"
   ]
  },
  {
   "cell_type": "markdown",
   "id": "4909c5ff",
   "metadata": {},
   "source": [
    "**'totalStands'** column has already been split, therefore, will not be carried on.\n",
    "\n",
    "**'dates'** column is usable and essential for timestamp."
   ]
  },
  {
   "cell_type": "code",
   "execution_count": 45,
   "id": "f23dbb5b",
   "metadata": {},
   "outputs": [
    {
     "name": "stdout",
     "output_type": "stream",
     "text": [
      "['02/12/2022 07:47' '02/12/2022 07:48' '02/12/2022 07:49' ...\n",
      " '08/12/2022 19:54' '08/12/2022 19:55' '08/12/2022 19:56']\n"
     ]
    }
   ],
   "source": [
    "dates_column = bikes_table.iloc[: , 10]\n",
    "dates_unique = dates_column.unique()\n",
    "print(dates_unique)"
   ]
  },
  {
   "cell_type": "markdown",
   "id": "3f17b7f6",
   "metadata": {},
   "source": [
    "**'bikes'** column represents the number of bikes which are central for our analysis."
   ]
  },
  {
   "cell_type": "code",
   "execution_count": 46,
   "id": "27f47787",
   "metadata": {},
   "outputs": [
    {
     "name": "stdout",
     "output_type": "stream",
     "text": [
      "[ 0  4  2 12  7  6  5 13 19 15  8 24 10 23  3 14 17 32 11 21 16  1 18 26\n",
      " 20  9 29 33 38 25 22 28 27 37 31 30 36 35 40 39 34]\n"
     ]
    }
   ],
   "source": [
    "bikes_column = bikes_table.iloc[: , 11]\n",
    "bikes_unique = bikes_column.unique()\n",
    "print(bikes_unique)"
   ]
  },
  {
   "cell_type": "markdown",
   "id": "87af63f7",
   "metadata": {},
   "source": [
    "**'stands'** column contains usable information."
   ]
  },
  {
   "cell_type": "code",
   "execution_count": 47,
   "id": "bdf9143d",
   "metadata": {},
   "outputs": [
    {
     "name": "stdout",
     "output_type": "stream",
     "text": [
      "[20 28 38  4 13 24 17 35  7  5 15 32 29 30 11 19 34 21 36 18 16 14 10 27\n",
      " 31  6 39 12 23 40 25  2 33 22  9 26  8 37  3  0  1]\n"
     ]
    }
   ],
   "source": [
    "stands_column = bikes_table.iloc[: , 12]\n",
    "stands_unique = stands_column.unique()\n",
    "print(stands_unique)"
   ]
  },
  {
   "cell_type": "markdown",
   "id": "ce294632",
   "metadata": {},
   "source": [
    "**'mechanicalBikes'** contains the number of regular bikes."
   ]
  },
  {
   "cell_type": "code",
   "execution_count": 48,
   "id": "604bbb9f",
   "metadata": {},
   "outputs": [
    {
     "name": "stdout",
     "output_type": "stream",
     "text": [
      "[ 0  4  2  6  5  3 11 12 15 22 18  1  7  9 21  8 13 10 14 19 16 17 24 20\n",
      " 25 23 28 27 26 31 32 35 34 29 30 36 33 38]\n"
     ]
    }
   ],
   "source": [
    "mechanicalBikes_column = bikes_table.iloc[: , 13]\n",
    "mechanicalBikes_unique = mechanicalBikes_column.unique()\n",
    "print(mechanicalBikes_unique)"
   ]
  },
  {
   "cell_type": "markdown",
   "id": "1fd02de5",
   "metadata": {},
   "source": [
    "**'electricalBikes'** contains the sum of **electricalInternalBatteryBikes** and **electricalRemovableBatteryBikes**.\n",
    "\n",
    "For that, it contains usable information."
   ]
  },
  {
   "cell_type": "code",
   "execution_count": 49,
   "id": "a18e381d",
   "metadata": {},
   "outputs": [
    {
     "name": "stdout",
     "output_type": "stream",
     "text": [
      "[ 0  2  6  3  1  8  4  7  5  9 11 12 10 14 13 16 15 18 17 19 20 22 21 23]\n"
     ]
    }
   ],
   "source": [
    "electricalBikes_column = bikes_table.iloc[: , 14]\n",
    "electricalBikes_unique = electricalBikes_column.unique()\n",
    "print(electricalBikes_unique)"
   ]
  },
  {
   "cell_type": "markdown",
   "id": "d3cca7f6",
   "metadata": {},
   "source": [
    "**'electricalInternalBatteryBikes'** presents no information to add in dataframe but will be mentioned in the insights.\n",
    "\n",
    "It seems that none of Electrical Bikes availables in Dublin are the type Internal Battery"
   ]
  },
  {
   "cell_type": "code",
   "execution_count": 50,
   "id": "59278adf",
   "metadata": {},
   "outputs": [
    {
     "name": "stdout",
     "output_type": "stream",
     "text": [
      "[0]\n"
     ]
    }
   ],
   "source": [
    "electricalInternalBatteryBikes_column = bikes_table.iloc[: , 15]\n",
    "electricalInternalBatteryBikes_unique = electricalInternalBatteryBikes_column.unique()\n",
    "print(electricalInternalBatteryBikes_unique)"
   ]
  },
  {
   "cell_type": "markdown",
   "id": "98efcc5c",
   "metadata": {},
   "source": [
    "**'electricalRemovableBatteryBikes'** presents information that fills in to **'electricalBikes'** and \n",
    "once it's the only category of electrical bikes with information, we don't need to duplicate information.\n",
    "\n",
    "Will not be carried on."
   ]
  },
  {
   "cell_type": "code",
   "execution_count": 51,
   "id": "9d98db39",
   "metadata": {},
   "outputs": [
    {
     "name": "stdout",
     "output_type": "stream",
     "text": [
      "[ 0  2  6  3  1  8  4  7  5  9 11 12 10 14 13 16 15 18 17 19 20 22 21 23]\n"
     ]
    }
   ],
   "source": [
    "electricalRemovableBatteryBikes_column = bikes_table.iloc[: , 16]\n",
    "electricalRemovableBatteryBikes_unique = electricalRemovableBatteryBikes_column.unique()\n",
    "print(electricalRemovableBatteryBikes_unique)"
   ]
  },
  {
   "cell_type": "markdown",
   "id": "f8bd85bf",
   "metadata": {},
   "source": [
    "**'capacity'** also presents information to be carried on to new table."
   ]
  },
  {
   "cell_type": "code",
   "execution_count": 52,
   "id": "6d0d6ea1",
   "metadata": {},
   "outputs": [
    {
     "name": "stdout",
     "output_type": "stream",
     "text": [
      "[20 32 40 16 30 21 29 25 22 27 36 23 35 38 24 31 33]\n"
     ]
    }
   ],
   "source": [
    "capacity_column = bikes_table.iloc[: , 17]\n",
    "capacity_unique = capacity_column.unique()\n",
    "print(capacity_unique)"
   ]
  },
  {
   "cell_type": "markdown",
   "id": "a3c21e18",
   "metadata": {},
   "source": [
    "### Select columns for Final Dataframe  <a class=\"anchor\" id=\"final_dataframe\"></a>"
   ]
  },
  {
   "cell_type": "code",
   "execution_count": 53,
   "id": "504fec1c",
   "metadata": {},
   "outputs": [],
   "source": [
    "# select columns and assign them to a new variable\n",
    "bikes_table = bikes_table.loc[:, [\"number\", \"name\", \"banking\",\n",
    "                                              \"connected\", \"dates\", \"bikes\", \"stands\", \n",
    "                                              \"mechanicalBikes\", \"electricalBikes\", \"capacity\"]]"
   ]
  },
  {
   "cell_type": "code",
   "execution_count": 54,
   "id": "5a7d2452",
   "metadata": {},
   "outputs": [
    {
     "data": {
      "text/plain": [
       "61520"
      ]
     },
     "execution_count": 54,
     "metadata": {},
     "output_type": "execute_result"
    }
   ],
   "source": [
    "bikes_table.head(3)\n",
    "len(bikes_table)"
   ]
  },
  {
   "cell_type": "markdown",
   "id": "b42622f4",
   "metadata": {},
   "source": [
    "### Check format of the attributes   <a class=\"anchor\" id=\"data_attributes\"></a>"
   ]
  },
  {
   "cell_type": "code",
   "execution_count": 55,
   "id": "6391e182",
   "metadata": {},
   "outputs": [
    {
     "data": {
      "text/plain": [
       "number              int64\n",
       "name               object\n",
       "banking              bool\n",
       "connected            bool\n",
       "dates              object\n",
       "bikes               int64\n",
       "stands              int64\n",
       "mechanicalBikes     int64\n",
       "electricalBikes     int64\n",
       "capacity            int64\n",
       "dtype: object"
      ]
     },
     "execution_count": 55,
     "metadata": {},
     "output_type": "execute_result"
    }
   ],
   "source": [
    "# check types of the columns\n",
    "bikes_table.dtypes"
   ]
  },
  {
   "cell_type": "markdown",
   "id": "9f635550",
   "metadata": {},
   "source": [
    "The column dates is a dtype: object. It's necessary to change the format to datetime, as dates will be used for further analysis."
   ]
  },
  {
   "cell_type": "code",
   "execution_count": 56,
   "id": "dbf21310",
   "metadata": {
    "scrolled": false
   },
   "outputs": [
    {
     "data": {
      "text/plain": [
       "0       2022-12-02 07:47:00\n",
       "1       2022-12-02 07:47:00\n",
       "2       2022-12-02 07:47:00\n",
       "3       2022-12-02 07:47:00\n",
       "4       2022-12-02 07:47:00\n",
       "                ...        \n",
       "61515   2022-12-08 19:56:00\n",
       "61516   2022-12-08 19:56:00\n",
       "61517   2022-12-08 19:56:00\n",
       "61518   2022-12-08 19:56:00\n",
       "61519   2022-12-08 19:56:00\n",
       "Name: dates, Length: 61520, dtype: datetime64[ns]"
      ]
     },
     "execution_count": 56,
     "metadata": {},
     "output_type": "execute_result"
    }
   ],
   "source": [
    "# convert column \"dates\" from object to datetime\n",
    "bikes_table['dates'] =  pd.to_datetime(bikes_table['dates'], \n",
    "                                             dayfirst = True, yearfirst = True, format = '%d/%m/%Y %H:%M')\n",
    "\n",
    "bikes_table['dates']"
   ]
  },
  {
   "cell_type": "markdown",
   "id": "9437b689",
   "metadata": {},
   "source": [
    "Finally changing new columns names to make it more readable and understandable."
   ]
  },
  {
   "cell_type": "code",
   "execution_count": 57,
   "id": "518bd29f",
   "metadata": {},
   "outputs": [],
   "source": [
    "#Changing the name of the column dates to date\n",
    "bikes_table.rename(columns = {'dates':'date'}, inplace = True)\n",
    "\n",
    "#Changing the name of the column bikes to bikes_available\n",
    "bikes_table.rename(columns = {'bikes':'bikes_available'}, inplace = True)\n",
    "\n",
    "#Changing the name of the column stands to stands_available\n",
    "bikes_table.rename(columns = {'stands':'stands_available'}, inplace = True)\n"
   ]
  },
  {
   "cell_type": "markdown",
   "id": "a5eecf35",
   "metadata": {},
   "source": [
    "### Time slices   <a class=\"anchor\" id=\"slice\"></a>\n",
    "\n",
    "To illustrate the row count per hour and filter out the hours that had low count of rows, meaning data collection that was out of our 8am to 7pm range. For that, 7am, 20pm, 21pm and 22pm hours were dropped."
   ]
  },
  {
   "cell_type": "code",
   "execution_count": 58,
   "id": "22235731",
   "metadata": {},
   "outputs": [],
   "source": [
    "# Creating a new column with hour\n",
    "bikes_table['hour'] = bikes_table['date'].dt.hour"
   ]
  },
  {
   "cell_type": "code",
   "execution_count": 59,
   "id": "ee8e1868",
   "metadata": {},
   "outputs": [],
   "source": [
    "# Creating a new column with days\n",
    "bikes_table['days'] = bikes_table['date'].dt.day"
   ]
  },
  {
   "cell_type": "code",
   "execution_count": 60,
   "id": "5662b99a",
   "metadata": {
    "scrolled": true
   },
   "outputs": [
    {
     "data": {
      "text/plain": [
       "hour\n",
       "7     1330\n",
       "8     4957\n",
       "9     4941\n",
       "10    4938\n",
       "11    4910\n",
       "12    4653\n",
       "13    5009\n",
       "14    4969\n",
       "15    4821\n",
       "16    5018\n",
       "17    5047\n",
       "18    5047\n",
       "19    3819\n",
       "20     803\n",
       "21     678\n",
       "22     580\n",
       "Name: number, dtype: int64"
      ]
     },
     "execution_count": 60,
     "metadata": {},
     "output_type": "execute_result"
    }
   ],
   "source": [
    "samples_hour = bikes_table.groupby(['hour']).count()\n",
    "samples_hour['number']"
   ]
  },
  {
   "cell_type": "code",
   "execution_count": 61,
   "id": "ec9212a7",
   "metadata": {},
   "outputs": [],
   "source": [
    "bikes_table = bikes_table.drop(bikes_table[bikes_table['hour'].isin([7, 19, 20, 21, 22])].index)\n"
   ]
  },
  {
   "cell_type": "markdown",
   "id": "c174456e",
   "metadata": {},
   "source": [
    "# Data Analysis      <a class=\"anchor\" id=\"data_analysis\"></a>"
   ]
  },
  {
   "cell_type": "markdown",
   "id": "1508948e",
   "metadata": {},
   "source": [
    "The analysis starts with a look into static and dynamic elements of the dataframe to gain primary insights on their individualities."
   ]
  },
  {
   "cell_type": "markdown",
   "id": "3424d0f3",
   "metadata": {},
   "source": [
    "## Static variables   <a class=\"anchor\" id=\"static\"></a>\n",
    "\n",
    "The following attributes are immutable. It means they are characteristics of each station and will not change over time."
   ]
  },
  {
   "cell_type": "markdown",
   "id": "114598fe",
   "metadata": {},
   "source": [
    "<b>addresses</b>\n",
    "\n",
    "Information about my addresses contained in the 'name' column.\n",
    "- There are no missing values;\n",
    "- There is a total of 113 unique addresses in this dataframe;"
   ]
  },
  {
   "cell_type": "code",
   "execution_count": 62,
   "id": "9e1e5c30",
   "metadata": {},
   "outputs": [
    {
     "data": {
      "text/html": [
       "<div>\n",
       "<style scoped>\n",
       "    .dataframe tbody tr th:only-of-type {\n",
       "        vertical-align: middle;\n",
       "    }\n",
       "\n",
       "    .dataframe tbody tr th {\n",
       "        vertical-align: top;\n",
       "    }\n",
       "\n",
       "    .dataframe thead th {\n",
       "        text-align: right;\n",
       "    }\n",
       "</style>\n",
       "<table border=\"1\" class=\"dataframe\">\n",
       "  <thead>\n",
       "    <tr style=\"text-align: right;\">\n",
       "      <th></th>\n",
       "      <th>0</th>\n",
       "    </tr>\n",
       "  </thead>\n",
       "  <tbody>\n",
       "    <tr>\n",
       "      <th>0</th>\n",
       "      <td>ROTHE ABBEY</td>\n",
       "    </tr>\n",
       "    <tr>\n",
       "      <th>1</th>\n",
       "      <td>GRANGEGORMAN LOWER (NORTH)</td>\n",
       "    </tr>\n",
       "    <tr>\n",
       "      <th>2</th>\n",
       "      <td>AVONDALE ROAD</td>\n",
       "    </tr>\n",
       "    <tr>\n",
       "      <th>3</th>\n",
       "      <td>KING STREET NORTH</td>\n",
       "    </tr>\n",
       "    <tr>\n",
       "      <th>4</th>\n",
       "      <td>JAMES STREET</td>\n",
       "    </tr>\n",
       "    <tr>\n",
       "      <th>...</th>\n",
       "      <td>...</td>\n",
       "    </tr>\n",
       "    <tr>\n",
       "      <th>108</th>\n",
       "      <td>BLESSINGTON STREET</td>\n",
       "    </tr>\n",
       "    <tr>\n",
       "      <th>109</th>\n",
       "      <td>GOLDEN LANE</td>\n",
       "    </tr>\n",
       "    <tr>\n",
       "      <th>110</th>\n",
       "      <td>HIGH STREET</td>\n",
       "    </tr>\n",
       "    <tr>\n",
       "      <th>111</th>\n",
       "      <td>MOUNTJOY SQUARE WEST</td>\n",
       "    </tr>\n",
       "    <tr>\n",
       "      <th>112</th>\n",
       "      <td>SANDWITH STREET</td>\n",
       "    </tr>\n",
       "  </tbody>\n",
       "</table>\n",
       "<p>113 rows × 1 columns</p>\n",
       "</div>"
      ],
      "text/plain": [
       "                              0\n",
       "0                   ROTHE ABBEY\n",
       "1    GRANGEGORMAN LOWER (NORTH)\n",
       "2                 AVONDALE ROAD\n",
       "3             KING STREET NORTH\n",
       "4                  JAMES STREET\n",
       "..                          ...\n",
       "108          BLESSINGTON STREET\n",
       "109                 GOLDEN LANE\n",
       "110                 HIGH STREET\n",
       "111        MOUNTJOY SQUARE WEST\n",
       "112             SANDWITH STREET\n",
       "\n",
       "[113 rows x 1 columns]"
      ]
     },
     "execution_count": 62,
     "metadata": {},
     "output_type": "execute_result"
    }
   ],
   "source": [
    "#assign my 'name' values to a variable.\n",
    "name = bikes_table.iloc[:, 1]\n",
    "\n",
    "#get the unique values of name = addresses\n",
    "unique_addresses = bikes_table['name'].unique()\n",
    "unique_addresses_df = pd.DataFrame(unique_addresses)\n",
    "unique_addresses_df"
   ]
  },
  {
   "cell_type": "markdown",
   "id": "f1785c93",
   "metadata": {},
   "source": [
    "<b>banking:</b> indicates whether this station has a payment terminal.\n",
    "\n",
    "From the whole dataset, 59351 rows do not offer banking while only 2765 rows of data offer the option.  \n",
    "After, a filter was done to select the name of the stations that have banking available.  \n",
    "The result is the number of 5 stations. Names are: 'CONVENTION CENTRE', 'DAME STREET', 'MERRION SQUARE WEST', \"PRINCES STREET / O'CONNELL STREET\", \"ST. STEPHEN'S GREEN SOUTH\".  \n",
    "The ones that don't offer banking are listed below with a count of 108 stations.\n",
    "\n",
    "**This 5 stations are possibly the busiest stations in Dublin** "
   ]
  },
  {
   "cell_type": "code",
   "execution_count": 63,
   "id": "12c56dd9",
   "metadata": {
    "scrolled": true
   },
   "outputs": [
    {
     "data": {
      "text/plain": [
       "False    51887\n",
       "True      2423\n",
       "Name: banking, dtype: int64"
      ]
     },
     "execution_count": 63,
     "metadata": {},
     "output_type": "execute_result"
    }
   ],
   "source": [
    "bikes_table['banking'].value_counts()"
   ]
  },
  {
   "cell_type": "code",
   "execution_count": 64,
   "id": "364c041f",
   "metadata": {},
   "outputs": [],
   "source": [
    "stations_banking = bikes_table[['name','banking']]\n",
    "#stations_banking"
   ]
  },
  {
   "cell_type": "code",
   "execution_count": 65,
   "id": "090ee323",
   "metadata": {},
   "outputs": [],
   "source": [
    "# select rows where the 'banking' column is True\n",
    "true_banking = stations_banking[stations_banking['banking'] == True]\n",
    "\n",
    "# select rows where the 'banking' column is False\n",
    "false_banking = stations_banking[stations_banking['banking'] == False]"
   ]
  },
  {
   "cell_type": "code",
   "execution_count": 66,
   "id": "7aef062c",
   "metadata": {},
   "outputs": [
    {
     "data": {
      "text/plain": [
       "array(['CONVENTION CENTRE', 'DAME STREET', 'MERRION SQUARE WEST',\n",
       "       \"PRINCES STREET / O'CONNELL STREET\", \"ST. STEPHEN'S GREEN SOUTH\"],\n",
       "      dtype=object)"
      ]
     },
     "execution_count": 66,
     "metadata": {},
     "output_type": "execute_result"
    }
   ],
   "source": [
    "np.unique(true_banking['name'])"
   ]
  },
  {
   "cell_type": "code",
   "execution_count": 67,
   "id": "8f25b901",
   "metadata": {},
   "outputs": [
    {
     "name": "stdout",
     "output_type": "stream",
     "text": [
      "5\n"
     ]
    }
   ],
   "source": [
    "print(len(pd.unique(true_banking['name'])))"
   ]
  },
  {
   "cell_type": "code",
   "execution_count": 68,
   "id": "e965d2cd",
   "metadata": {},
   "outputs": [
    {
     "data": {
      "text/plain": [
       "array(['ROTHE ABBEY', 'GRANGEGORMAN LOWER (NORTH)', 'AVONDALE ROAD',\n",
       "       'KING STREET NORTH', 'JAMES STREET', 'HEUSTON BRIDGE (SOUTH)',\n",
       "       'ROYAL HOSPITAL', 'MOUNT STREET LOWER', 'CITY QUAY',\n",
       "       'NEW CENTRAL BANK', 'YORK STREET EAST', \"ST. STEPHEN'S GREEN EAST\",\n",
       "       'HARDWICKE PLACE', 'MOUNT BROWN', 'GREEK STREET', 'HATCH STREET',\n",
       "       'FITZWILLIAM SQUARE WEST', 'THE POINT', 'BUCKINGHAM STREET LOWER',\n",
       "       'DENMARK STREET GREAT', 'BENSON STREET', 'ECCLES STREET EAST',\n",
       "       'GRANGEGORMAN LOWER (CENTRAL)', 'NEWMAN HOUSE', 'SMITHFIELD',\n",
       "       'KILLARNEY STREET', 'TOWNSEND STREET', 'COLLINS BARRACKS MUSEUM',\n",
       "       'GRANGEGORMAN LOWER (SOUTH)', 'DEVERELL PLACE', 'HARCOURT TERRACE',\n",
       "       'GRAND CANAL DOCK', \"NORTH CIRCULAR ROAD (O'CONNELL'S)\",\n",
       "       'WOLFE TONE STREET', 'PARNELL STREET', 'JERVIS STREET',\n",
       "       'SMITHFIELD NORTH', 'SOUTH DOCK ROAD', 'JAMES STREET EAST',\n",
       "       'PORTOBELLO HARBOUR', 'NORTH CIRCULAR ROAD', 'WILTON TERRACE',\n",
       "       'GEORGES LANE', 'PARNELL SQUARE NORTH', 'GRATTAN STREET',\n",
       "       'LIME STREET', 'JOHN STREET WEST', 'KILMAINHAM LANE',\n",
       "       'CUSTOM HOUSE', 'HANOVER QUAY', 'EMMET ROAD',\n",
       "       'MARKET STREET SOUTH', 'UPPER SHERRARD STREET', 'CHARLEMONT PLACE',\n",
       "       'TALBOT STREET', 'CLARENDON ROW', 'GRANTHAM STREET',\n",
       "       'HERBERT PLACE', 'MERRION SQUARE EAST', 'PEARSE STREET',\n",
       "       'RATHDOWN ROAD', 'HANOVER QUAY EAST', \"SIR PATRICK DUN'S\",\n",
       "       'HEUSTON STATION (CENTRAL)', 'HEUSTON BRIDGE (NORTH)',\n",
       "       'LEINSTER STREET SOUTH', 'FENIAN STREET', 'KILMAINHAM GAOL',\n",
       "       'CATHAL BRUGHA STREET', 'GEORGES QUAY', 'BROOKFIELD ROAD',\n",
       "       'ORMOND QUAY UPPER', 'OLIVER BOND STREET', 'PORTOBELLO ROAD',\n",
       "       'CHRISTCHURCH PLACE', 'HERBERT STREET', 'EARLSFORT TERRACE',\n",
       "       'WILTON TERRACE (PARK)', 'FITZWILLIAM SQUARE EAST',\n",
       "       'FOWNES STREET UPPER', 'MERRION SQUARE SOUTH', 'CLONMEL STREET',\n",
       "       'CUSTOM HOUSE QUAY', 'BROADSTONE', 'PHIBSBOROUGH ROAD',\n",
       "       'WESTERN WAY', 'EXCISE WALK', 'HEUSTON STATION (CAR PARK)',\n",
       "       'BOLTON STREET', 'KEVIN STREET', 'PARKGATE STREET',\n",
       "       'BLACKHALL PLACE', 'HARDWICKE STREET', 'FREDERICK STREET SOUTH',\n",
       "       'MOUNTJOY SQUARE EAST', 'GUILD STREET', 'YORK STREET WEST',\n",
       "       'ECCLES STREET', 'MATER HOSPITAL', 'CHARLEVILLE ROAD',\n",
       "       'ST JAMES HOSPITAL (LUAS)', 'EXCHEQUER STREET',\n",
       "       'MOLESWORTH STREET', 'BLESSINGTON STREET', 'GOLDEN LANE',\n",
       "       'HIGH STREET', 'MOUNTJOY SQUARE WEST', 'SANDWITH STREET'],\n",
       "      dtype=object)"
      ]
     },
     "execution_count": 68,
     "metadata": {},
     "output_type": "execute_result"
    }
   ],
   "source": [
    "pd.unique(false_banking['name'])"
   ]
  },
  {
   "cell_type": "code",
   "execution_count": 69,
   "id": "651de961",
   "metadata": {},
   "outputs": [
    {
     "name": "stdout",
     "output_type": "stream",
     "text": [
      "108\n"
     ]
    }
   ],
   "source": [
    "print(len(pd.unique(false_banking['name'])))"
   ]
  },
  {
   "cell_type": "markdown",
   "id": "b32f80af",
   "metadata": {},
   "source": [
    "## Dynamic variables      <a class=\"anchor\" id=\"dynamic\"></a>"
   ]
  },
  {
   "cell_type": "markdown",
   "id": "6e5df446",
   "metadata": {},
   "source": [
    "From the <b>connected</b> column it is possible to see that 26 events where the station was not connected to the backend for any reason that may be interesting to be looked into. That represents 24 stations that could have had for e.g malfunction on the connection; a due update; structural problem; energy shortcut.\n",
    "\n",
    "A list was sorted with the stations number and the specific row they happenend."
   ]
  },
  {
   "cell_type": "code",
   "execution_count": 70,
   "id": "78b21e3e",
   "metadata": {},
   "outputs": [
    {
     "name": "stdout",
     "output_type": "stream",
     "text": [
      "True     54284\n",
      "False       26\n",
      "Name: connected, dtype: int64\n"
     ]
    }
   ],
   "source": [
    "print(bikes_table['connected'].value_counts())\n"
   ]
  },
  {
   "cell_type": "code",
   "execution_count": 71,
   "id": "dcc8c23d",
   "metadata": {
    "scrolled": true
   },
   "outputs": [
    {
     "name": "stdout",
     "output_type": "stream",
     "text": [
      "{2: [49505], 8: [4490], 10: [39225], 17: [40056], 18: [31027], 19: [19959], 28: [38386], 37: [9860], 42: [10137], 45: [10236], 54: [18190, 24433], 55: [51402], 71: [15326], 79: [60884], 85: [10235], 90: [5693], 94: [29555], 100: [21251], 101: [45258, 59708], 106: [22435], 109: [45806], 115: [28285], 116: [15137], 117: [58438]}\n"
     ]
    }
   ],
   "source": [
    "# Filter for rows where 'connected' is False\n",
    "filtered_df = bikes_table.loc[bikes_table_ready['connected'] == False]\n",
    "\n",
    "#group by number of station and print\n",
    "false_connection = filtered_df.groupby('number')\n",
    "print(false_connection.groups)\n"
   ]
  },
  {
   "cell_type": "markdown",
   "id": "9d6fcba1",
   "metadata": {},
   "source": [
    "**Checked the first and last days of data collecting for this analysis.**  \n",
    "\n",
    "The data collected had its first entrance in December, 2nd in the early morning and last entrance at December, 8th in the evening. The data collected and sorted for the analysis started at 8am and finished at 6:59pm, daily, for the period of 7 days."
   ]
  },
  {
   "cell_type": "code",
   "execution_count": 72,
   "id": "5d2a0abb",
   "metadata": {},
   "outputs": [
    {
     "data": {
      "text/plain": [
       "Timestamp('2022-12-02 08:00:00')"
      ]
     },
     "execution_count": 72,
     "metadata": {},
     "output_type": "execute_result"
    }
   ],
   "source": [
    "# returns the first date of the dataset collected\n",
    "bikes_table['date'].min()"
   ]
  },
  {
   "cell_type": "code",
   "execution_count": 73,
   "id": "ffaa2ccd",
   "metadata": {},
   "outputs": [
    {
     "data": {
      "text/plain": [
       "Timestamp('2022-12-08 18:59:00')"
      ]
     },
     "execution_count": 73,
     "metadata": {},
     "output_type": "execute_result"
    }
   ],
   "source": [
    "# returns the last date of the dataset collected\n",
    "bikes_table['date'].max() "
   ]
  },
  {
   "cell_type": "markdown",
   "id": "289e0b98",
   "metadata": {},
   "source": [
    "## Summary statistics of Quantitative Data  <a class=\"anchor\" id=\"quantitative\"></a>"
   ]
  },
  {
   "cell_type": "code",
   "execution_count": 74,
   "id": "86a11b76",
   "metadata": {
    "scrolled": true
   },
   "outputs": [
    {
     "data": {
      "text/html": [
       "<div>\n",
       "<style scoped>\n",
       "    .dataframe tbody tr th:only-of-type {\n",
       "        vertical-align: middle;\n",
       "    }\n",
       "\n",
       "    .dataframe tbody tr th {\n",
       "        vertical-align: top;\n",
       "    }\n",
       "\n",
       "    .dataframe thead th {\n",
       "        text-align: right;\n",
       "    }\n",
       "</style>\n",
       "<table border=\"1\" class=\"dataframe\">\n",
       "  <thead>\n",
       "    <tr style=\"text-align: right;\">\n",
       "      <th></th>\n",
       "      <th>number</th>\n",
       "      <th>bikes_available</th>\n",
       "      <th>stands_available</th>\n",
       "      <th>mechanicalBikes</th>\n",
       "      <th>electricalBikes</th>\n",
       "      <th>capacity</th>\n",
       "      <th>hour</th>\n",
       "      <th>days</th>\n",
       "    </tr>\n",
       "  </thead>\n",
       "  <tbody>\n",
       "    <tr>\n",
       "      <th>count</th>\n",
       "      <td>54310.000000</td>\n",
       "      <td>54310.000000</td>\n",
       "      <td>54310.000000</td>\n",
       "      <td>54310.000000</td>\n",
       "      <td>54310.000000</td>\n",
       "      <td>54310.000000</td>\n",
       "      <td>54310.000000</td>\n",
       "      <td>54310.000000</td>\n",
       "    </tr>\n",
       "    <tr>\n",
       "      <th>mean</th>\n",
       "      <td>58.356472</td>\n",
       "      <td>11.697422</td>\n",
       "      <td>20.205266</td>\n",
       "      <td>7.728061</td>\n",
       "      <td>4.034266</td>\n",
       "      <td>31.991880</td>\n",
       "      <td>13.023053</td>\n",
       "      <td>4.961259</td>\n",
       "    </tr>\n",
       "    <tr>\n",
       "      <th>std</th>\n",
       "      <td>34.196368</td>\n",
       "      <td>8.512539</td>\n",
       "      <td>10.069902</td>\n",
       "      <td>6.189196</td>\n",
       "      <td>3.593223</td>\n",
       "      <td>7.493781</td>\n",
       "      <td>3.176625</td>\n",
       "      <td>2.004812</td>\n",
       "    </tr>\n",
       "    <tr>\n",
       "      <th>min</th>\n",
       "      <td>1.000000</td>\n",
       "      <td>0.000000</td>\n",
       "      <td>0.000000</td>\n",
       "      <td>0.000000</td>\n",
       "      <td>0.000000</td>\n",
       "      <td>16.000000</td>\n",
       "      <td>8.000000</td>\n",
       "      <td>2.000000</td>\n",
       "    </tr>\n",
       "    <tr>\n",
       "      <th>25%</th>\n",
       "      <td>28.000000</td>\n",
       "      <td>5.000000</td>\n",
       "      <td>13.000000</td>\n",
       "      <td>2.000000</td>\n",
       "      <td>1.000000</td>\n",
       "      <td>29.000000</td>\n",
       "      <td>10.000000</td>\n",
       "      <td>3.000000</td>\n",
       "    </tr>\n",
       "    <tr>\n",
       "      <th>50%</th>\n",
       "      <td>58.000000</td>\n",
       "      <td>11.000000</td>\n",
       "      <td>20.000000</td>\n",
       "      <td>7.000000</td>\n",
       "      <td>3.000000</td>\n",
       "      <td>30.000000</td>\n",
       "      <td>13.000000</td>\n",
       "      <td>5.000000</td>\n",
       "    </tr>\n",
       "    <tr>\n",
       "      <th>75%</th>\n",
       "      <td>89.000000</td>\n",
       "      <td>17.000000</td>\n",
       "      <td>28.000000</td>\n",
       "      <td>12.000000</td>\n",
       "      <td>6.000000</td>\n",
       "      <td>40.000000</td>\n",
       "      <td>16.000000</td>\n",
       "      <td>7.000000</td>\n",
       "    </tr>\n",
       "    <tr>\n",
       "      <th>max</th>\n",
       "      <td>117.000000</td>\n",
       "      <td>40.000000</td>\n",
       "      <td>40.000000</td>\n",
       "      <td>38.000000</td>\n",
       "      <td>23.000000</td>\n",
       "      <td>40.000000</td>\n",
       "      <td>18.000000</td>\n",
       "      <td>8.000000</td>\n",
       "    </tr>\n",
       "  </tbody>\n",
       "</table>\n",
       "</div>"
      ],
      "text/plain": [
       "             number  bikes_available  stands_available  mechanicalBikes  \\\n",
       "count  54310.000000     54310.000000      54310.000000     54310.000000   \n",
       "mean      58.356472        11.697422         20.205266         7.728061   \n",
       "std       34.196368         8.512539         10.069902         6.189196   \n",
       "min        1.000000         0.000000          0.000000         0.000000   \n",
       "25%       28.000000         5.000000         13.000000         2.000000   \n",
       "50%       58.000000        11.000000         20.000000         7.000000   \n",
       "75%       89.000000        17.000000         28.000000        12.000000   \n",
       "max      117.000000        40.000000         40.000000        38.000000   \n",
       "\n",
       "       electricalBikes      capacity          hour          days  \n",
       "count     54310.000000  54310.000000  54310.000000  54310.000000  \n",
       "mean          4.034266     31.991880     13.023053      4.961259  \n",
       "std           3.593223      7.493781      3.176625      2.004812  \n",
       "min           0.000000     16.000000      8.000000      2.000000  \n",
       "25%           1.000000     29.000000     10.000000      3.000000  \n",
       "50%           3.000000     30.000000     13.000000      5.000000  \n",
       "75%           6.000000     40.000000     16.000000      7.000000  \n",
       "max          23.000000     40.000000     18.000000      8.000000  "
      ]
     },
     "execution_count": 74,
     "metadata": {},
     "output_type": "execute_result"
    }
   ],
   "source": [
    "# Summary statistics of the quantitative data\n",
    "bikes_table.describe() "
   ]
  },
  {
   "cell_type": "markdown",
   "id": "1c155ec4",
   "metadata": {},
   "source": [
    "An overall description of the numeric portion of the data shows:\n",
    "\n",
    "**bikes_availabe**: a range from 0 to 40 units of bikes available;  \n",
    "**stands_available**: a range from 0 to 40 units of stands available;\n",
    "\n",
    "When looked into the columns that feed the _bikes_availabe_ column:  \n",
    "**mechanicalBikes**: a range from 0 to 38 units of bikes available;  \n",
    "**electricalBikes**: a range from 0 to 23 units of bikes available;\n",
    "\n",
    "The **capacity** range goes from 16 units to a max of 40 units.\n"
   ]
  },
  {
   "cell_type": "markdown",
   "id": "b0c3012e",
   "metadata": {},
   "source": [
    "## Execute defined plan    <a class=\"anchor\" id=\"execute\"></a>"
   ]
  },
  {
   "cell_type": "code",
   "execution_count": 75,
   "id": "c1b5aa7a",
   "metadata": {},
   "outputs": [
    {
     "data": {
      "text/html": [
       "<div>\n",
       "<style scoped>\n",
       "    .dataframe tbody tr th:only-of-type {\n",
       "        vertical-align: middle;\n",
       "    }\n",
       "\n",
       "    .dataframe tbody tr th {\n",
       "        vertical-align: top;\n",
       "    }\n",
       "\n",
       "    .dataframe thead th {\n",
       "        text-align: right;\n",
       "    }\n",
       "</style>\n",
       "<table border=\"1\" class=\"dataframe\">\n",
       "  <thead>\n",
       "    <tr style=\"text-align: right;\">\n",
       "      <th></th>\n",
       "      <th>number</th>\n",
       "      <th>name</th>\n",
       "      <th>banking</th>\n",
       "      <th>connected</th>\n",
       "      <th>date</th>\n",
       "      <th>bikes_available</th>\n",
       "      <th>stands_available</th>\n",
       "      <th>mechanicalBikes</th>\n",
       "      <th>electricalBikes</th>\n",
       "      <th>capacity</th>\n",
       "      <th>hour</th>\n",
       "      <th>days</th>\n",
       "    </tr>\n",
       "  </thead>\n",
       "  <tbody>\n",
       "    <tr>\n",
       "      <th>135</th>\n",
       "      <td>85</td>\n",
       "      <td>ROTHE ABBEY</td>\n",
       "      <td>False</td>\n",
       "      <td>True</td>\n",
       "      <td>2022-12-02 08:00:00</td>\n",
       "      <td>19</td>\n",
       "      <td>16</td>\n",
       "      <td>11</td>\n",
       "      <td>8</td>\n",
       "      <td>35</td>\n",
       "      <td>8</td>\n",
       "      <td>2</td>\n",
       "    </tr>\n",
       "    <tr>\n",
       "      <th>136</th>\n",
       "      <td>105</td>\n",
       "      <td>GRANGEGORMAN LOWER (NORTH)</td>\n",
       "      <td>False</td>\n",
       "      <td>True</td>\n",
       "      <td>2022-12-02 08:00:00</td>\n",
       "      <td>14</td>\n",
       "      <td>22</td>\n",
       "      <td>7</td>\n",
       "      <td>7</td>\n",
       "      <td>36</td>\n",
       "      <td>8</td>\n",
       "      <td>2</td>\n",
       "    </tr>\n",
       "  </tbody>\n",
       "</table>\n",
       "</div>"
      ],
      "text/plain": [
       "     number                        name  banking  connected  \\\n",
       "135      85                 ROTHE ABBEY    False       True   \n",
       "136     105  GRANGEGORMAN LOWER (NORTH)    False       True   \n",
       "\n",
       "                   date  bikes_available  stands_available  mechanicalBikes  \\\n",
       "135 2022-12-02 08:00:00               19                16               11   \n",
       "136 2022-12-02 08:00:00               14                22                7   \n",
       "\n",
       "     electricalBikes  capacity  hour  days  \n",
       "135                8        35     8     2  \n",
       "136                7        36     8     2  "
      ]
     },
     "execution_count": 75,
     "metadata": {},
     "output_type": "execute_result"
    }
   ],
   "source": [
    "# create a new column with days\n",
    "bikes_table['days'] = bikes_table['date'].dt.day\n",
    "\n",
    "# create a new column with hours\n",
    "bikes_table['hour'] = bikes_table['date'].dt.hour\n",
    "\n",
    "bikes_table.head(2)"
   ]
  },
  {
   "cell_type": "markdown",
   "id": "952788ed",
   "metadata": {},
   "source": [
    "### Grouping the tables by name and calculating flow."
   ]
  },
  {
   "cell_type": "code",
   "execution_count": 76,
   "id": "8cfcbfb6",
   "metadata": {
    "scrolled": true
   },
   "outputs": [],
   "source": [
    "# group the dataset by the number of the station\n",
    "grouped = bikes_table.groupby(['number'])\n",
    "#grouped.head()"
   ]
  },
  {
   "cell_type": "code",
   "execution_count": 77,
   "id": "bfa6dfc4",
   "metadata": {
    "scrolled": true
   },
   "outputs": [],
   "source": [
    "# Create a new column called flow with the difference of bikes available in each stand\n",
    "bikes_table[\"flow\"] = grouped[\"bikes_available\"].diff()\n",
    "\n",
    "#Transform negative numbers in positives\n",
    "bikes_table[\"flow\"] = bikes_table[\"flow\"].abs()"
   ]
  },
  {
   "cell_type": "markdown",
   "id": "34466ffa",
   "metadata": {},
   "source": [
    "Above: It should be noted that our flow is based in tracking the flow of bikes coming in and out of the stations, as a single entity, so for this matter we are not distinguishing between numbers of bikes taken out or returned to the stands."
   ]
  },
  {
   "cell_type": "code",
   "execution_count": 78,
   "id": "b7655716",
   "metadata": {
    "scrolled": true
   },
   "outputs": [
    {
     "data": {
      "text/plain": [
       "days  hour  name                   number\n",
       "2     8     AVONDALE ROAD          108        4.0\n",
       "            BENSON STREET          90        31.0\n",
       "            BLACKHALL PLACE        88         7.0\n",
       "            BLESSINGTON STREET     2          3.0\n",
       "            BOLTON STREET          3          3.0\n",
       "                                             ... \n",
       "8     18    WILTON TERRACE         39        11.0\n",
       "            WILTON TERRACE (PARK)  114        8.0\n",
       "            WOLFE TONE STREET      77         5.0\n",
       "            YORK STREET EAST       52         7.0\n",
       "            YORK STREET WEST       51         7.0\n",
       "Name: flow, Length: 8700, dtype: float64"
      ]
     },
     "execution_count": 78,
     "metadata": {},
     "output_type": "execute_result"
    }
   ],
   "source": [
    "# Group dataset by hour and name adding up flow\n",
    "bikes_hour_station = bikes_table.groupby(['days','hour','name','number'])['flow'].sum()\n",
    "bikes_hour_station"
   ]
  },
  {
   "cell_type": "code",
   "execution_count": 80,
   "id": "c9270079",
   "metadata": {},
   "outputs": [
    {
     "data": {
      "text/plain": [
       "hour  days\n",
       "8     2        7.362832\n",
       "      3        5.991150\n",
       "      4        3.548673\n",
       "      5       10.398230\n",
       "      6       13.982301\n",
       "      7       14.805310\n",
       "      8       14.292035\n",
       "9     2        7.566372\n",
       "      3        3.371681\n",
       "      4        1.663717\n",
       "      5        5.353982\n",
       "      6        7.318584\n",
       "      7        7.539823\n",
       "      8        6.991150\n",
       "10    2        4.637168\n",
       "      3        4.061947\n",
       "      4        2.115044\n",
       "      5        3.601770\n",
       "      6        4.141593\n",
       "      7        3.884956\n",
       "Name: flow, dtype: float64"
      ]
     },
     "execution_count": 80,
     "metadata": {},
     "output_type": "execute_result"
    }
   ],
   "source": [
    "# Average of bikes per hour per day\n",
    "bikes_hour = bikes_hour_station.groupby(['hour','days']).mean()\n",
    "bikes_hour.head(20)"
   ]
  },
  {
   "cell_type": "markdown",
   "id": "213213af",
   "metadata": {},
   "source": [
    "Above: The 'flow' column was grouped by day and hour, where a average was taken of the flow values related to every hour in each day, then plotted below."
   ]
  },
  {
   "cell_type": "code",
   "execution_count": 84,
   "id": "5cf1fb3e",
   "metadata": {},
   "outputs": [],
   "source": [
    "bikes_hour_day2 = bikes_hour.loc[:, 2]\n",
    "bikes_hour_day3 = bikes_hour.loc[:, 3]\n",
    "bikes_hour_day4 = bikes_hour.loc[:, 4]\n",
    "bikes_hour_day5 = bikes_hour.loc[:, 5]\n",
    "bikes_hour_day6 = bikes_hour.loc[:, 6]\n",
    "bikes_hour_day7 = bikes_hour.loc[:, 7]\n",
    "bikes_hour_day8 = bikes_hour.loc[:, 8]"
   ]
  },
  {
   "cell_type": "code",
   "execution_count": 85,
   "id": "df598e49",
   "metadata": {
    "scrolled": true
   },
   "outputs": [
    {
     "data": {
      "text/plain": [
       "hour\n",
       "8     7.362832\n",
       "9     7.566372\n",
       "10    4.637168\n",
       "11    4.247788\n",
       "12    5.663717\n",
       "13    6.230088\n",
       "14    4.938053\n",
       "15    4.805310\n",
       "16    5.796460\n",
       "17    6.681416\n",
       "18    5.725664\n",
       "Name: flow, dtype: float64"
      ]
     },
     "execution_count": 85,
     "metadata": {},
     "output_type": "execute_result"
    }
   ],
   "source": [
    "bikes_hour_day2.head(20)"
   ]
  },
  {
   "cell_type": "code",
   "execution_count": 86,
   "id": "4a3e6228",
   "metadata": {},
   "outputs": [
    {
     "data": {
      "text/plain": [
       "hour\n",
       "8     5.991150\n",
       "9     3.371681\n",
       "10    4.061947\n",
       "11    3.628319\n",
       "12    3.955752\n",
       "13    3.743363\n",
       "14    4.769912\n",
       "15    3.530973\n",
       "16    3.929204\n",
       "17    3.654867\n",
       "18    2.964602\n",
       "Name: flow, dtype: float64"
      ]
     },
     "execution_count": 86,
     "metadata": {},
     "output_type": "execute_result"
    }
   ],
   "source": [
    "bikes_hour_day3 = bikes_hour.loc[:, 3]\n",
    "bikes_hour_day3"
   ]
  },
  {
   "cell_type": "code",
   "execution_count": 87,
   "id": "b390db77",
   "metadata": {},
   "outputs": [
    {
     "data": {
      "image/png": "[encoded data removed]",
      "text/plain": [
       "<Figure size 864x576 with 9 Axes>"
      ]
     },
     "metadata": {
      "needs_background": "light"
     },
     "output_type": "display_data"
    }
   ],
   "source": [
    "for i in (stand)\n",
    "\n",
    "plt.subplots(3, 3,  figsize=(12, 8), constrained_layout=True)\n",
    "\n",
    "plt.subplot(3, 3, 1)\n",
    "bikes_hour_day2.plot(x='date', y='flow')\n",
    "plt.title('02/12 - Friday')\n",
    "\n",
    "\n",
    "plt.subplot(3, 3, 2)\n",
    "bikes_hour_day3.plot(x='date', y='flow')\n",
    "plt.title('03/12 - Saturday')\n",
    "\n",
    "\n",
    "plt.subplot(3, 3, 3)\n",
    "bikes_hour_day4.plot(x='date', y='flow')\n",
    "plt.title('04/12 - Sunday')\n",
    "\n",
    "\n",
    "plt.subplot(3, 3, 4)\n",
    "bikes_hour_day5.plot(x='date', y='flow')\n",
    "plt.title('05/12 - Monday')\n",
    "plt.ylabel('Flow of Bikes')\n",
    "\n",
    "\n",
    "plt.subplot(3, 3, 5)\n",
    "bikes_hour_day6.plot(x='date', y='flow')\n",
    "plt.title('06/12 - Tuesday')\n",
    "\n",
    "\n",
    "plt.subplot(3, 3, 6)\n",
    "bikes_hour_day7.plot(x='date', y='flow')\n",
    "plt.title('07/12 - Wednesday')\n",
    "\n",
    "\n",
    "plt.subplot(3, 3, 7)\n",
    "bikes_hour_day8.plot(x='date', y='flow')\n",
    "plt.title('08/12 - Thursday')\n",
    "\n",
    "\n",
    "plt.suptitle('Average Flow of Bikes per Hour')\n",
    "\n",
    "plt.show()"
   ]
  },
  {
   "cell_type": "markdown",
   "id": "ca404a3f",
   "metadata": {},
   "source": [
    "Getting to the answer of our main goal in task, it is possible to see the flow of bikes throughout the day for the period of a week, starting on a Friday morning and finishing next Thursday evening. To remind that the flow is related to in's and out's of bikes sum together and that an average per hour was taken of the flows of all stands.\n",
    "\n",
    "First, clearly weekends present a much lower flux of bikes compared to week days.  \n",
    "Second, starting at Monday, one can see the increase of the flux of bikes and then a decrease near to the weekend.  \n",
    "Third, the first hour in the morning, 8am, is the one with the highest flows between all hours and days of the week, fact that is equal for all days, except for Friday.\n",
    "\n",
    "Individually: \n",
    "- Friday: presents 3 peaks of flux around 9am, 13pm and 5pm.\n",
    "- Saturday: starts off with a peak at 8am, then lower peaks at 10am, 12pm, 2pm, 4pm.\n",
    "- Sunday: goes with peaks at 8am, 11am, 2pm, 4pm.\n",
    "- Monday: starts off with a peak at 8am, later at 2pm and 5pm.\n",
    "- Tuesday, presents a peak at 8am followed by little flux up until 5pm, when a new peaks appears.\n",
    "- Wednesday: a peak at 8am, slow increase after 11am and a peak at 1pm followed by a later peak at 5pm.\n",
    "- Thursday: high peak at 8am, followed by lower peaks at 1pm and 5pm.\n",
    "\n",
    "Overal, our week days are punctuated with higher flows starting around 11am, having their peaks around 1pm and starting to fall after that. A new trend starts around 3pm and reaches its peak at 5pm when it then starts to fall again.\n",
    "\n",
    "Weekends present 2 peaks in common after midday, one at 2pm and 4pm. On the contrary of weekdays where the 5pm hour presents peaks every day, on weekends this time of the day presents down trend of flux from our 4pm peak.\n"
   ]
  },
  {
   "cell_type": "markdown",
   "id": "32f831cb",
   "metadata": {},
   "source": [
    "## Individual stand flow "
   ]
  },
  {
   "cell_type": "markdown",
   "id": "c8b2992e",
   "metadata": {},
   "source": [
    "### Locate the stand with highest flow registered"
   ]
  },
  {
   "cell_type": "code",
   "execution_count": null,
   "id": "cc62f43d",
   "metadata": {},
   "outputs": [],
   "source": [
    "#locate stand with highest flow\n",
    "average_flow = bikes_table.groupby('number')['flow'].mean()\n",
    "highest_flow_stand = average_flow.idxmax()\n",
    "highest_flow_stand_data = bikes_table[bikes_table['number'] == highest_flow_stand]\n",
    "highest_flow_stand_data.head(2)"
   ]
  },
  {
   "cell_type": "markdown",
   "id": "4080b5a0",
   "metadata": {},
   "source": [
    "As a result, stand number 33 on PRINCES STREET / O'CONNELL STREET presents the highest flow of bikes on average."
   ]
  },
  {
   "cell_type": "markdown",
   "id": "6bd54fff",
   "metadata": {},
   "source": [
    "### Get a top 5 of highest average flows "
   ]
  },
  {
   "cell_type": "code",
   "execution_count": null,
   "id": "c6cd513a",
   "metadata": {
    "scrolled": false
   },
   "outputs": [],
   "source": [
    "# If wanted to select the 5 highest stands in flows\n",
    "highest_flows = average_flow.nlargest(5)\n",
    "highest_flows"
   ]
  },
  {
   "cell_type": "code",
   "execution_count": null,
   "id": "0f19f6dc",
   "metadata": {
    "scrolled": true
   },
   "outputs": [],
   "source": [
    "#and get full information of the respective stand\n",
    "highest_stand_name = bikes_table.loc[(bikes_table['number'] == 5)]\n",
    "highest_stand_name.head(2)"
   ]
  },
  {
   "cell_type": "markdown",
   "id": "83e41347",
   "metadata": {},
   "source": [
    "### Locate the stand with lowest flow registered"
   ]
  },
  {
   "cell_type": "code",
   "execution_count": null,
   "id": "90737b3b",
   "metadata": {
    "scrolled": true
   },
   "outputs": [],
   "source": [
    "# locate the stand with the lowest flow\n",
    "min_average_flow = bikes_table.groupby('number')['flow'].mean()\n",
    "lowest_flow_stand = average_flow.idxmin()\n",
    "lowest_flow_stand_data = bikes_table[bikes_table['number'] == lowest_flow_stand]\n",
    "lowest_flow_stand_data.head(2)"
   ]
  },
  {
   "cell_type": "markdown",
   "id": "079fd1ef",
   "metadata": {},
   "source": [
    "### Get a list 5 of lowest average flows "
   ]
  },
  {
   "cell_type": "markdown",
   "id": "46cc3ef3",
   "metadata": {},
   "source": [
    "Stand number 94 named Heuston Station (Car Park) presents the lowest flux of bikes."
   ]
  },
  {
   "cell_type": "code",
   "execution_count": null,
   "id": "16021ab7",
   "metadata": {},
   "outputs": [],
   "source": [
    "# If wanted to select the 5 lowest stands in flows\n",
    "lowest_flows = min_average_flow.nsmallest(5)\n",
    "lowest_flows"
   ]
  },
  {
   "cell_type": "code",
   "execution_count": null,
   "id": "284ee3ac",
   "metadata": {
    "scrolled": true
   },
   "outputs": [],
   "source": [
    "#and get full information of the respective stand\n",
    "lowest_stand_name = bikes_table.loc[(bikes_table['number'] == 116)]\n",
    "lowest_stand_name.head(2)"
   ]
  },
  {
   "cell_type": "markdown",
   "id": "c54b5a12",
   "metadata": {},
   "source": [
    "This operations provide insights of usual wanted information such as performance, which is doing 'better' or 'worse'.\n",
    "Knowing the number of the station allows further analysis."
   ]
  },
  {
   "cell_type": "markdown",
   "id": "6168b833",
   "metadata": {},
   "source": [
    "## Check the daily flow over the week of bikes on a specific stand number."
   ]
  },
  {
   "cell_type": "markdown",
   "id": "57c0eb44",
   "metadata": {},
   "source": [
    "So, now that a overal view has been made of the flow performance of bikes per hour and day over the week, and highest and lowest flows were located, we can visualize the peak patterns in flow of bikes of a particular stand by its number."
   ]
  },
  {
   "cell_type": "code",
   "execution_count": null,
   "id": "bc24d267",
   "metadata": {},
   "outputs": [],
   "source": [
    "#select your desired station by number\n",
    "stand = 33"
   ]
  },
  {
   "cell_type": "code",
   "execution_count": null,
   "id": "0c6bd39d",
   "metadata": {
    "scrolled": true
   },
   "outputs": [],
   "source": [
    "bikes_stand = bikes_table.loc[(bikes_table['number'] == stand)]\n",
    "bikes_stand.head(2)"
   ]
  },
  {
   "cell_type": "code",
   "execution_count": null,
   "id": "c5ec91d2",
   "metadata": {
    "scrolled": true
   },
   "outputs": [],
   "source": [
    "# Average of bikes per hour per day\n",
    "x_stand_hour = bikes_stand.groupby(['hour', 'days'])['flow'].mean()\n",
    "#print(x_stand_hour.head(2))"
   ]
  },
  {
   "cell_type": "code",
   "execution_count": null,
   "id": "165cc72e",
   "metadata": {},
   "outputs": [],
   "source": [
    "x_hour_day2 = x_stand_hour.loc[:, 2]\n",
    "x_hour_day3 = x_stand_hour.loc[:, 3]\n",
    "x_hour_day4 = x_stand_hour.loc[:, 4]\n",
    "x_hour_day5 = x_stand_hour.loc[:, 5]\n",
    "x_hour_day6 = x_stand_hour.loc[:, 6]\n",
    "x_hour_day7 = x_stand_hour.loc[:, 7]\n",
    "x_hour_day8 = x_stand_hour.loc[:, 8]"
   ]
  },
  {
   "cell_type": "code",
   "execution_count": null,
   "id": "d0904aa4",
   "metadata": {
    "scrolled": true
   },
   "outputs": [],
   "source": [
    "plt.subplots(3, 3,  figsize=(12, 8), constrained_layout=True)\n",
    "\n",
    "plt.subplot(3, 3, 1)\n",
    "x_hour_day2.plot(x='date', y='flow')\n",
    "plt.title('02/12 - Friday')\n",
    "\n",
    "\n",
    "plt.subplot(3, 3, 2)\n",
    "x_hour_day3.plot(x='date', y='flow')\n",
    "plt.title('03/12 - Saturday')\n",
    "\n",
    "\n",
    "plt.subplot(3, 3, 3)\n",
    "x_hour_day4.plot(x='date', y='flow')\n",
    "plt.title('04/12 - Sunday')\n",
    "\n",
    "\n",
    "plt.subplot(3, 3, 4)\n",
    "bikes_hour_day5.plot(x='date', y='flow')\n",
    "plt.title('05/12 - Monday')\n",
    "plt.ylabel('Flow of Bikes')\n",
    "\n",
    "\n",
    "plt.subplot(3, 3, 5)\n",
    "x_hour_day6.plot(x='date', y='flow')\n",
    "plt.title('06/12 - Tuesday')\n",
    "\n",
    "\n",
    "plt.subplot(3, 3, 6)\n",
    "x_hour_day7.plot(x='date', y='flow')\n",
    "plt.title('07/12 - Wednesday')\n",
    "\n",
    "plt.subplot(3, 3, 7)\n",
    "x_hour_day8.plot(x='date', y='flow')\n",
    "plt.title('08/12 - Thursday')\n",
    "\n",
    "plt.suptitle('Average Flow of Bikes per chosen station')\n",
    "plt.show()\n"
   ]
  },
  {
   "cell_type": "markdown",
   "id": "f418aa33",
   "metadata": {},
   "source": [
    "*(Friendly reminder: the flow is related to in's and out's of bikes sum together and that an average per hour was taken of the flow and the representation of flows is to identify peaks of flows).*  \n",
    "\n",
    "Taking PRINCES STREET / O'CONNELL STREET as an example, it is possible to assume that this stand detains its own flux tendencies not following all the trends presented in the overal view above. For instance, 4 days present 8am peaks. Monday detains the highest flux of all days of the week and the 1pm peak is presented in 4 days as well."
   ]
  },
  {
   "cell_type": "markdown",
   "id": "609b831f",
   "metadata": {},
   "source": [
    "# Conclusion  <a class=\"anchor\" id=\"conclusion\"></a>"
   ]
  },
  {
   "cell_type": "markdown",
   "id": "d7da02d1",
   "metadata": {},
   "source": [
    "Discussing the results of our analysis in regards to our goals, it was possible to obtain a daily flow per hour and track the patterns of peak hours we were looking for taking in account all stations together. We could also track stations with high and low flows and by using their numbers, an individual flow per day could be plotted again in order to gain insights. However, our analysis did not provide distinction of inflows or outflows, therefore it should only be used as a mean the visualize peak times of flow alone during the day.\n",
    "\n",
    "About our findings, Dublin city displays peaks of flows that are relatable to usual busy times found in the traffic of cars as mentioned in the task brief. Those peak times normally are as its highest flows starting on Mondays throughout the week. When they reach Friday, a reduction starts to appear terminating on low flows and peaks on the weekend. We assume those similarities are due to users that commute to work or that commute to school/universities. Weekend days are usually slower then because many of those weekdays users don't need to commute. \n",
    "\n",
    "There were also some findings when exploring the content of the variables, e.g. some specific occurrences (26) where stands were disconnected from its terminal and that interruption could be something to be investigated. None of the stations offer bonus to its users and only 5 offer payment options on the terminals. There were no electric bikes with internal batteries found on the data.Finally, as an evaluation, we feel we met our goals and work efforts dispended on this report were equaly, 50% - 50%.\n",
    "\n",
    "\n",
    "\n",
    "\n",
    "\n"
   ]
  },
  {
   "cell_type": "markdown",
   "id": "d6a97958",
   "metadata": {},
   "source": [
    "# References  <a class=\"anchor\" id=\"references\"></a>"
   ]
  },
  {
   "cell_type": "markdown",
   "id": "39060a8a",
   "metadata": {},
   "source": [
    "[1]: API docummentation. Available on: https://developer.jcdecaux.com/#/opendata/vls?page=dynamic. (Last access: 09/12/2022) <a id='jcdecaux_api'></a>\n",
    "\n",
    "[2]: Dublin Traffic available on: https://www.tomtom.com/traffic-index/dublin-traffic/. (Access: 15/12/2022)\n",
    "<a id='dublin_traffic'></a>"
   ]
  }
 ],
 "metadata": {
  "kernelspec": {
   "display_name": "Python 3 (ipykernel)",
   "language": "python",
   "name": "python3"
  },
  "language_info": {
   "codemirror_mode": {
    "name": "ipython",
    "version": 3
   },
   "file_extension": ".py",
   "mimetype": "text/x-python",
   "name": "python",
   "nbconvert_exporter": "python",
   "pygments_lexer": "ipython3",
   "version": "3.9.12"
  },
  "toc": {
   "base_numbering": 1,
   "nav_menu": {
    "height": "400px",
    "width": "477px"
   },
   "number_sections": true,
   "sideBar": true,
   "skip_h1_title": false,
   "title_cell": "Table of Contents",
   "title_sidebar": "Contents",
   "toc_cell": true,
   "toc_position": {
    "height": "421.323px",
    "left": "633px",
    "top": "212.125px",
    "width": "207px"
   },
   "toc_section_display": true,
   "toc_window_display": false
  }
 },
 "nbformat": 4,
 "nbformat_minor": 5
}
