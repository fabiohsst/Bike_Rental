{
 "cells": [
  {
   "cell_type": "markdown",
   "id": "762d5f8e",
   "metadata": {},
   "source": [
    "<b>Task 2 - Group project done by: Fabio Tavares (K00278295) & Liliam Cristine Stein (K00278238)</b>"
   ]
  },
  {
   "cell_type": "code",
   "execution_count": null,
   "id": "5a943588",
   "metadata": {},
   "outputs": [],
   "source": [
    "import requests\n",
    "import pandas as pd\n",
    "import numpy as np\n",
    "\n",
    "import datetime\n",
    "import schedule\n",
    "import time"
   ]
  },
  {
   "cell_type": "code",
   "execution_count": null,
   "id": "450d54fa",
   "metadata": {},
   "outputs": [],
   "source": [
    "def print_time():\n",
    "    url = 'https://api.jcdecaux.com/vls/v3/stations?'\n",
    "    key = 'baccb2977dc675df49563295c3c3166caab64664'\n",
    "    contract = 'dublin'\n",
    "    \n",
    "    bikes = url + 'contract=' + contract + '&apiKey=' + key\n",
    "    \n",
    "    response = requests.get(bikes)\n",
    "    \n",
    "    response\n",
    "    \n",
    "    data = response.json()\n",
    "    \n",
    "    df = pd.DataFrame(data)\n",
    "    \n",
    "    df['dates'] = pd.to_datetime(df['lastUpdate'])\n",
    "    \n",
    "    df['dates'] = df['dates'].dt.strftime('%Y-%m-%d %H:%M:%S')\n",
    "    \n",
    "    df.sort_values(by='dates', inplace = True)    \n",
    "  \n",
    "    #df.to_csv(r'C:\\Users\\lilia\\Desktop\\df.csv', index=False, header=True)\n",
    "    df.to_csv(r'C:\\Users\\lilia\\Desktop\\DF8MASTER09dec.csv', mode='a', index=False, header=False)\n",
    " \n",
    "    print(df)\n",
    "    \n",
    "schedule.every(9).minutes.do(print_time)\n",
    "        \n",
    "while 1:\n",
    "    schedule.run_pending()\n",
    "    time.sleep(1)"
   ]
  },
  {
   "cell_type": "markdown",
   "id": "f8b3b285",
   "metadata": {},
   "source": [
    "Every day the code above was run and the collection would start. Every 9 min a call would be made to the api to collect a new portion of data and added to the previos portion that was saved as a csv type file on desktop, for instance. "
   ]
  },
  {
   "cell_type": "code",
   "execution_count": null,
   "id": "a83b40b0",
   "metadata": {},
   "outputs": [],
   "source": []
  }
 ],
 "metadata": {
  "kernelspec": {
   "display_name": "Python 3 (ipykernel)",
   "language": "python",
   "name": "python3"
  },
  "language_info": {
   "codemirror_mode": {
    "name": "ipython",
    "version": 3
   },
   "file_extension": ".py",
   "mimetype": "text/x-python",
   "name": "python",
   "nbconvert_exporter": "python",
   "pygments_lexer": "ipython3",
   "version": "3.9.12"
  }
 },
 "nbformat": 4,
 "nbformat_minor": 5
}
